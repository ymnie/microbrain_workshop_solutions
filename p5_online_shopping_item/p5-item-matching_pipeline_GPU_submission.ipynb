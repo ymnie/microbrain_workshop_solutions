{
  "nbformat": 4,
  "nbformat_minor": 0,
  "metadata": {
    "colab": {
      "provenance": [],
      "machine_shape": "hm"
    },
    "kernelspec": {
      "name": "python3",
      "display_name": "Python 3"
    },
    "language_info": {
      "name": "python"
    },
    "widgets": {
      "application/vnd.jupyter.widget-state+json": {
        "90d14c48148b4a71ac55feb4c6eae6c9": {
          "model_module": "@jupyter-widgets/controls",
          "model_name": "HBoxModel",
          "model_module_version": "1.5.0",
          "state": {
            "_view_name": "HBoxView",
            "_dom_classes": [],
            "_model_name": "HBoxModel",
            "_view_module": "@jupyter-widgets/controls",
            "_model_module_version": "1.5.0",
            "_view_count": null,
            "_view_module_version": "1.5.0",
            "box_style": "",
            "layout": "IPY_MODEL_ff26beacfd28425ab898b9a7027eb3d9",
            "_model_module": "@jupyter-widgets/controls",
            "children": [
              "IPY_MODEL_54a59ec0a38547ae9433f26e81650e30",
              "IPY_MODEL_ecf08fe557bf4ba7a3514b9e5c10cfdc",
              "IPY_MODEL_9cb811f2cd2b460989597e0191fc79db"
            ]
          }
        },
        "ff26beacfd28425ab898b9a7027eb3d9": {
          "model_module": "@jupyter-widgets/base",
          "model_name": "LayoutModel",
          "model_module_version": "1.2.0",
          "state": {
            "_view_name": "LayoutView",
            "grid_template_rows": null,
            "right": null,
            "justify_content": null,
            "_view_module": "@jupyter-widgets/base",
            "overflow": null,
            "_model_module_version": "1.2.0",
            "_view_count": null,
            "flex_flow": null,
            "width": null,
            "min_width": null,
            "border": null,
            "align_items": null,
            "bottom": null,
            "_model_module": "@jupyter-widgets/base",
            "top": null,
            "grid_column": null,
            "overflow_y": null,
            "overflow_x": null,
            "grid_auto_flow": null,
            "grid_area": null,
            "grid_template_columns": null,
            "flex": null,
            "_model_name": "LayoutModel",
            "justify_items": null,
            "grid_row": null,
            "max_height": null,
            "align_content": null,
            "visibility": null,
            "align_self": null,
            "height": null,
            "min_height": null,
            "padding": null,
            "grid_auto_rows": null,
            "grid_gap": null,
            "max_width": null,
            "order": null,
            "_view_module_version": "1.2.0",
            "grid_template_areas": null,
            "object_position": null,
            "object_fit": null,
            "grid_auto_columns": null,
            "margin": null,
            "display": null,
            "left": null
          }
        },
        "54a59ec0a38547ae9433f26e81650e30": {
          "model_module": "@jupyter-widgets/controls",
          "model_name": "HTMLModel",
          "model_module_version": "1.5.0",
          "state": {
            "_view_name": "HTMLView",
            "style": "IPY_MODEL_50f61fe604c14baea1fe2d62bb3bbe62",
            "_dom_classes": [],
            "description": "",
            "_model_name": "HTMLModel",
            "placeholder": "​",
            "_view_module": "@jupyter-widgets/controls",
            "_model_module_version": "1.5.0",
            "value": "Calculating embedding: 100%",
            "_view_count": null,
            "_view_module_version": "1.5.0",
            "description_tooltip": null,
            "_model_module": "@jupyter-widgets/controls",
            "layout": "IPY_MODEL_e84836ef4ab84f83adf602a53441b3b2"
          }
        },
        "ecf08fe557bf4ba7a3514b9e5c10cfdc": {
          "model_module": "@jupyter-widgets/controls",
          "model_name": "FloatProgressModel",
          "model_module_version": "1.5.0",
          "state": {
            "_view_name": "ProgressView",
            "style": "IPY_MODEL_89e32950c4cd42848793a230fadb8e68",
            "_dom_classes": [],
            "description": "",
            "_model_name": "FloatProgressModel",
            "bar_style": "success",
            "max": 1071,
            "_view_module": "@jupyter-widgets/controls",
            "_model_module_version": "1.5.0",
            "value": 1071,
            "_view_count": null,
            "_view_module_version": "1.5.0",
            "orientation": "horizontal",
            "min": 0,
            "description_tooltip": null,
            "_model_module": "@jupyter-widgets/controls",
            "layout": "IPY_MODEL_87880b0c49a6493f940a3d0e444ad8a3"
          }
        },
        "9cb811f2cd2b460989597e0191fc79db": {
          "model_module": "@jupyter-widgets/controls",
          "model_name": "HTMLModel",
          "model_module_version": "1.5.0",
          "state": {
            "_view_name": "HTMLView",
            "style": "IPY_MODEL_fcd6c8a4483647af82d3e30c40ffed72",
            "_dom_classes": [],
            "description": "",
            "_model_name": "HTMLModel",
            "placeholder": "​",
            "_view_module": "@jupyter-widgets/controls",
            "_model_module_version": "1.5.0",
            "value": " 1071/1071 [1:19:18&lt;00:00,  4.44s/it]",
            "_view_count": null,
            "_view_module_version": "1.5.0",
            "description_tooltip": null,
            "_model_module": "@jupyter-widgets/controls",
            "layout": "IPY_MODEL_3753a923de2640dba043718463228b91"
          }
        },
        "50f61fe604c14baea1fe2d62bb3bbe62": {
          "model_module": "@jupyter-widgets/controls",
          "model_name": "DescriptionStyleModel",
          "model_module_version": "1.5.0",
          "state": {
            "_view_name": "StyleView",
            "_model_name": "DescriptionStyleModel",
            "description_width": "",
            "_view_module": "@jupyter-widgets/base",
            "_model_module_version": "1.5.0",
            "_view_count": null,
            "_view_module_version": "1.2.0",
            "_model_module": "@jupyter-widgets/controls"
          }
        },
        "e84836ef4ab84f83adf602a53441b3b2": {
          "model_module": "@jupyter-widgets/base",
          "model_name": "LayoutModel",
          "model_module_version": "1.2.0",
          "state": {
            "_view_name": "LayoutView",
            "grid_template_rows": null,
            "right": null,
            "justify_content": null,
            "_view_module": "@jupyter-widgets/base",
            "overflow": null,
            "_model_module_version": "1.2.0",
            "_view_count": null,
            "flex_flow": null,
            "width": null,
            "min_width": null,
            "border": null,
            "align_items": null,
            "bottom": null,
            "_model_module": "@jupyter-widgets/base",
            "top": null,
            "grid_column": null,
            "overflow_y": null,
            "overflow_x": null,
            "grid_auto_flow": null,
            "grid_area": null,
            "grid_template_columns": null,
            "flex": null,
            "_model_name": "LayoutModel",
            "justify_items": null,
            "grid_row": null,
            "max_height": null,
            "align_content": null,
            "visibility": null,
            "align_self": null,
            "height": null,
            "min_height": null,
            "padding": null,
            "grid_auto_rows": null,
            "grid_gap": null,
            "max_width": null,
            "order": null,
            "_view_module_version": "1.2.0",
            "grid_template_areas": null,
            "object_position": null,
            "object_fit": null,
            "grid_auto_columns": null,
            "margin": null,
            "display": null,
            "left": null
          }
        },
        "89e32950c4cd42848793a230fadb8e68": {
          "model_module": "@jupyter-widgets/controls",
          "model_name": "ProgressStyleModel",
          "model_module_version": "1.5.0",
          "state": {
            "_view_name": "StyleView",
            "_model_name": "ProgressStyleModel",
            "description_width": "",
            "_view_module": "@jupyter-widgets/base",
            "_model_module_version": "1.5.0",
            "_view_count": null,
            "_view_module_version": "1.2.0",
            "bar_color": null,
            "_model_module": "@jupyter-widgets/controls"
          }
        },
        "87880b0c49a6493f940a3d0e444ad8a3": {
          "model_module": "@jupyter-widgets/base",
          "model_name": "LayoutModel",
          "model_module_version": "1.2.0",
          "state": {
            "_view_name": "LayoutView",
            "grid_template_rows": null,
            "right": null,
            "justify_content": null,
            "_view_module": "@jupyter-widgets/base",
            "overflow": null,
            "_model_module_version": "1.2.0",
            "_view_count": null,
            "flex_flow": null,
            "width": null,
            "min_width": null,
            "border": null,
            "align_items": null,
            "bottom": null,
            "_model_module": "@jupyter-widgets/base",
            "top": null,
            "grid_column": null,
            "overflow_y": null,
            "overflow_x": null,
            "grid_auto_flow": null,
            "grid_area": null,
            "grid_template_columns": null,
            "flex": null,
            "_model_name": "LayoutModel",
            "justify_items": null,
            "grid_row": null,
            "max_height": null,
            "align_content": null,
            "visibility": null,
            "align_self": null,
            "height": null,
            "min_height": null,
            "padding": null,
            "grid_auto_rows": null,
            "grid_gap": null,
            "max_width": null,
            "order": null,
            "_view_module_version": "1.2.0",
            "grid_template_areas": null,
            "object_position": null,
            "object_fit": null,
            "grid_auto_columns": null,
            "margin": null,
            "display": null,
            "left": null
          }
        },
        "fcd6c8a4483647af82d3e30c40ffed72": {
          "model_module": "@jupyter-widgets/controls",
          "model_name": "DescriptionStyleModel",
          "model_module_version": "1.5.0",
          "state": {
            "_view_name": "StyleView",
            "_model_name": "DescriptionStyleModel",
            "description_width": "",
            "_view_module": "@jupyter-widgets/base",
            "_model_module_version": "1.5.0",
            "_view_count": null,
            "_view_module_version": "1.2.0",
            "_model_module": "@jupyter-widgets/controls"
          }
        },
        "3753a923de2640dba043718463228b91": {
          "model_module": "@jupyter-widgets/base",
          "model_name": "LayoutModel",
          "model_module_version": "1.2.0",
          "state": {
            "_view_name": "LayoutView",
            "grid_template_rows": null,
            "right": null,
            "justify_content": null,
            "_view_module": "@jupyter-widgets/base",
            "overflow": null,
            "_model_module_version": "1.2.0",
            "_view_count": null,
            "flex_flow": null,
            "width": null,
            "min_width": null,
            "border": null,
            "align_items": null,
            "bottom": null,
            "_model_module": "@jupyter-widgets/base",
            "top": null,
            "grid_column": null,
            "overflow_y": null,
            "overflow_x": null,
            "grid_auto_flow": null,
            "grid_area": null,
            "grid_template_columns": null,
            "flex": null,
            "_model_name": "LayoutModel",
            "justify_items": null,
            "grid_row": null,
            "max_height": null,
            "align_content": null,
            "visibility": null,
            "align_self": null,
            "height": null,
            "min_height": null,
            "padding": null,
            "grid_auto_rows": null,
            "grid_gap": null,
            "max_width": null,
            "order": null,
            "_view_module_version": "1.2.0",
            "grid_template_areas": null,
            "object_position": null,
            "object_fit": null,
            "grid_auto_columns": null,
            "margin": null,
            "display": null,
            "left": null
          }
        },
        "d2471c81ba52420c90d97cfc46f1bf75": {
          "model_module": "@jupyter-widgets/controls",
          "model_name": "HBoxModel",
          "model_module_version": "1.5.0",
          "state": {
            "_view_name": "HBoxView",
            "_dom_classes": [],
            "_model_name": "HBoxModel",
            "_view_module": "@jupyter-widgets/controls",
            "_model_module_version": "1.5.0",
            "_view_count": null,
            "_view_module_version": "1.5.0",
            "box_style": "",
            "layout": "IPY_MODEL_50058cb62881475494d32cb1a2ee77b9",
            "_model_module": "@jupyter-widgets/controls",
            "children": [
              "IPY_MODEL_eae01c6377784467b4fae4b7e3f54b7f",
              "IPY_MODEL_836197224da841eca9fa25f05a96ed4e",
              "IPY_MODEL_4afb976c814946949ec5f04f48c8c67b"
            ]
          }
        },
        "50058cb62881475494d32cb1a2ee77b9": {
          "model_module": "@jupyter-widgets/base",
          "model_name": "LayoutModel",
          "model_module_version": "1.2.0",
          "state": {
            "_view_name": "LayoutView",
            "grid_template_rows": null,
            "right": null,
            "justify_content": null,
            "_view_module": "@jupyter-widgets/base",
            "overflow": null,
            "_model_module_version": "1.2.0",
            "_view_count": null,
            "flex_flow": null,
            "width": null,
            "min_width": null,
            "border": null,
            "align_items": null,
            "bottom": null,
            "_model_module": "@jupyter-widgets/base",
            "top": null,
            "grid_column": null,
            "overflow_y": null,
            "overflow_x": null,
            "grid_auto_flow": null,
            "grid_area": null,
            "grid_template_columns": null,
            "flex": null,
            "_model_name": "LayoutModel",
            "justify_items": null,
            "grid_row": null,
            "max_height": null,
            "align_content": null,
            "visibility": null,
            "align_self": null,
            "height": null,
            "min_height": null,
            "padding": null,
            "grid_auto_rows": null,
            "grid_gap": null,
            "max_width": null,
            "order": null,
            "_view_module_version": "1.2.0",
            "grid_template_areas": null,
            "object_position": null,
            "object_fit": null,
            "grid_auto_columns": null,
            "margin": null,
            "display": null,
            "left": null
          }
        },
        "eae01c6377784467b4fae4b7e3f54b7f": {
          "model_module": "@jupyter-widgets/controls",
          "model_name": "HTMLModel",
          "model_module_version": "1.5.0",
          "state": {
            "_view_name": "HTMLView",
            "style": "IPY_MODEL_066d2960638d4c1b8708632bdc004dc3",
            "_dom_classes": [],
            "description": "",
            "_model_name": "HTMLModel",
            "placeholder": "​",
            "_view_module": "@jupyter-widgets/controls",
            "_model_module_version": "1.5.0",
            "value": "Calculating embedding: 100%",
            "_view_count": null,
            "_view_module_version": "1.5.0",
            "description_tooltip": null,
            "_model_module": "@jupyter-widgets/controls",
            "layout": "IPY_MODEL_f20c107df2f94ca9a3339f0c54fabbcc"
          }
        },
        "836197224da841eca9fa25f05a96ed4e": {
          "model_module": "@jupyter-widgets/controls",
          "model_name": "FloatProgressModel",
          "model_module_version": "1.5.0",
          "state": {
            "_view_name": "ProgressView",
            "style": "IPY_MODEL_1c899f0b8ef7458f84f514b36a329f54",
            "_dom_classes": [],
            "description": "",
            "_model_name": "FloatProgressModel",
            "bar_style": "success",
            "max": 1071,
            "_view_module": "@jupyter-widgets/controls",
            "_model_module_version": "1.5.0",
            "value": 1071,
            "_view_count": null,
            "_view_module_version": "1.5.0",
            "orientation": "horizontal",
            "min": 0,
            "description_tooltip": null,
            "_model_module": "@jupyter-widgets/controls",
            "layout": "IPY_MODEL_d30caabf2a8d478da0d5cf31f1027ee9"
          }
        },
        "4afb976c814946949ec5f04f48c8c67b": {
          "model_module": "@jupyter-widgets/controls",
          "model_name": "HTMLModel",
          "model_module_version": "1.5.0",
          "state": {
            "_view_name": "HTMLView",
            "style": "IPY_MODEL_20c71ccc90bd42cc84143083b795efbe",
            "_dom_classes": [],
            "description": "",
            "_model_name": "HTMLModel",
            "placeholder": "​",
            "_view_module": "@jupyter-widgets/controls",
            "_model_module_version": "1.5.0",
            "value": " 1071/1071 [45:57&lt;00:00,  2.57s/it]",
            "_view_count": null,
            "_view_module_version": "1.5.0",
            "description_tooltip": null,
            "_model_module": "@jupyter-widgets/controls",
            "layout": "IPY_MODEL_a58e29cc08194fecbbce9b3e30c14edd"
          }
        },
        "066d2960638d4c1b8708632bdc004dc3": {
          "model_module": "@jupyter-widgets/controls",
          "model_name": "DescriptionStyleModel",
          "model_module_version": "1.5.0",
          "state": {
            "_view_name": "StyleView",
            "_model_name": "DescriptionStyleModel",
            "description_width": "",
            "_view_module": "@jupyter-widgets/base",
            "_model_module_version": "1.5.0",
            "_view_count": null,
            "_view_module_version": "1.2.0",
            "_model_module": "@jupyter-widgets/controls"
          }
        },
        "f20c107df2f94ca9a3339f0c54fabbcc": {
          "model_module": "@jupyter-widgets/base",
          "model_name": "LayoutModel",
          "model_module_version": "1.2.0",
          "state": {
            "_view_name": "LayoutView",
            "grid_template_rows": null,
            "right": null,
            "justify_content": null,
            "_view_module": "@jupyter-widgets/base",
            "overflow": null,
            "_model_module_version": "1.2.0",
            "_view_count": null,
            "flex_flow": null,
            "width": null,
            "min_width": null,
            "border": null,
            "align_items": null,
            "bottom": null,
            "_model_module": "@jupyter-widgets/base",
            "top": null,
            "grid_column": null,
            "overflow_y": null,
            "overflow_x": null,
            "grid_auto_flow": null,
            "grid_area": null,
            "grid_template_columns": null,
            "flex": null,
            "_model_name": "LayoutModel",
            "justify_items": null,
            "grid_row": null,
            "max_height": null,
            "align_content": null,
            "visibility": null,
            "align_self": null,
            "height": null,
            "min_height": null,
            "padding": null,
            "grid_auto_rows": null,
            "grid_gap": null,
            "max_width": null,
            "order": null,
            "_view_module_version": "1.2.0",
            "grid_template_areas": null,
            "object_position": null,
            "object_fit": null,
            "grid_auto_columns": null,
            "margin": null,
            "display": null,
            "left": null
          }
        },
        "1c899f0b8ef7458f84f514b36a329f54": {
          "model_module": "@jupyter-widgets/controls",
          "model_name": "ProgressStyleModel",
          "model_module_version": "1.5.0",
          "state": {
            "_view_name": "StyleView",
            "_model_name": "ProgressStyleModel",
            "description_width": "",
            "_view_module": "@jupyter-widgets/base",
            "_model_module_version": "1.5.0",
            "_view_count": null,
            "_view_module_version": "1.2.0",
            "bar_color": null,
            "_model_module": "@jupyter-widgets/controls"
          }
        },
        "d30caabf2a8d478da0d5cf31f1027ee9": {
          "model_module": "@jupyter-widgets/base",
          "model_name": "LayoutModel",
          "model_module_version": "1.2.0",
          "state": {
            "_view_name": "LayoutView",
            "grid_template_rows": null,
            "right": null,
            "justify_content": null,
            "_view_module": "@jupyter-widgets/base",
            "overflow": null,
            "_model_module_version": "1.2.0",
            "_view_count": null,
            "flex_flow": null,
            "width": null,
            "min_width": null,
            "border": null,
            "align_items": null,
            "bottom": null,
            "_model_module": "@jupyter-widgets/base",
            "top": null,
            "grid_column": null,
            "overflow_y": null,
            "overflow_x": null,
            "grid_auto_flow": null,
            "grid_area": null,
            "grid_template_columns": null,
            "flex": null,
            "_model_name": "LayoutModel",
            "justify_items": null,
            "grid_row": null,
            "max_height": null,
            "align_content": null,
            "visibility": null,
            "align_self": null,
            "height": null,
            "min_height": null,
            "padding": null,
            "grid_auto_rows": null,
            "grid_gap": null,
            "max_width": null,
            "order": null,
            "_view_module_version": "1.2.0",
            "grid_template_areas": null,
            "object_position": null,
            "object_fit": null,
            "grid_auto_columns": null,
            "margin": null,
            "display": null,
            "left": null
          }
        },
        "20c71ccc90bd42cc84143083b795efbe": {
          "model_module": "@jupyter-widgets/controls",
          "model_name": "DescriptionStyleModel",
          "model_module_version": "1.5.0",
          "state": {
            "_view_name": "StyleView",
            "_model_name": "DescriptionStyleModel",
            "description_width": "",
            "_view_module": "@jupyter-widgets/base",
            "_model_module_version": "1.5.0",
            "_view_count": null,
            "_view_module_version": "1.2.0",
            "_model_module": "@jupyter-widgets/controls"
          }
        },
        "a58e29cc08194fecbbce9b3e30c14edd": {
          "model_module": "@jupyter-widgets/base",
          "model_name": "LayoutModel",
          "model_module_version": "1.2.0",
          "state": {
            "_view_name": "LayoutView",
            "grid_template_rows": null,
            "right": null,
            "justify_content": null,
            "_view_module": "@jupyter-widgets/base",
            "overflow": null,
            "_model_module_version": "1.2.0",
            "_view_count": null,
            "flex_flow": null,
            "width": null,
            "min_width": null,
            "border": null,
            "align_items": null,
            "bottom": null,
            "_model_module": "@jupyter-widgets/base",
            "top": null,
            "grid_column": null,
            "overflow_y": null,
            "overflow_x": null,
            "grid_auto_flow": null,
            "grid_area": null,
            "grid_template_columns": null,
            "flex": null,
            "_model_name": "LayoutModel",
            "justify_items": null,
            "grid_row": null,
            "max_height": null,
            "align_content": null,
            "visibility": null,
            "align_self": null,
            "height": null,
            "min_height": null,
            "padding": null,
            "grid_auto_rows": null,
            "grid_gap": null,
            "max_width": null,
            "order": null,
            "_view_module_version": "1.2.0",
            "grid_template_areas": null,
            "object_position": null,
            "object_fit": null,
            "grid_auto_columns": null,
            "margin": null,
            "display": null,
            "left": null
          }
        }
      }
    },
    "accelerator": "GPU"
  },
  "cells": [
    {
      "cell_type": "markdown",
      "metadata": {
        "id": "cf3sxKX3qevj"
      },
      "source": [
        "# This is the pipeline for shopee matching garantee"
      ]
    },
    {
      "cell_type": "code",
      "metadata": {
        "id": "zYWBgcByqOOR"
      },
      "source": [
        "import os"
      ],
      "execution_count": null,
      "outputs": []
    },
    {
      "cell_type": "code",
      "metadata": {
        "colab": {
          "base_uri": "https://localhost:8080/"
        },
        "id": "T4B9LPzXwGvL",
        "outputId": "4b7795c7-daaa-4686-fc69-818166935945"
      },
      "source": [
        "!nvidia-smi"
      ],
      "execution_count": null,
      "outputs": [
        {
          "output_type": "stream",
          "text": [
            "Fri May  7 14:34:11 2021       \n",
            "+-----------------------------------------------------------------------------+\n",
            "| NVIDIA-SMI 465.19.01    Driver Version: 460.32.03    CUDA Version: 11.2     |\n",
            "|-------------------------------+----------------------+----------------------+\n",
            "| GPU  Name        Persistence-M| Bus-Id        Disp.A | Volatile Uncorr. ECC |\n",
            "| Fan  Temp  Perf  Pwr:Usage/Cap|         Memory-Usage | GPU-Util  Compute M. |\n",
            "|                               |                      |               MIG M. |\n",
            "|===============================+======================+======================|\n",
            "|   0  Tesla P100-PCIE...  Off  | 00000000:00:04.0 Off |                    0 |\n",
            "| N/A   34C    P0    28W / 250W |      0MiB / 16280MiB |      0%      Default |\n",
            "|                               |                      |                  N/A |\n",
            "+-------------------------------+----------------------+----------------------+\n",
            "                                                                               \n",
            "+-----------------------------------------------------------------------------+\n",
            "| Processes:                                                                  |\n",
            "|  GPU   GI   CI        PID   Type   Process name                  GPU Memory |\n",
            "|        ID   ID                                                   Usage      |\n",
            "|=============================================================================|\n",
            "|  No running processes found                                                 |\n",
            "+-----------------------------------------------------------------------------+\n"
          ],
          "name": "stdout"
        }
      ]
    },
    {
      "cell_type": "code",
      "metadata": {
        "id": "Bkb70X7WwSNq",
        "colab": {
          "base_uri": "https://localhost:8080/"
        },
        "outputId": "ccd4399b-b50e-4724-8cf5-fcc980b09ac7"
      },
      "source": [
        "import pynvml\n",
        "\n",
        "pynvml.nvmlInit()\n",
        "handle = pynvml.nvmlDeviceGetHandleByIndex(0)\n",
        "device_name = pynvml.nvmlDeviceGetName(handle)\n",
        "\n",
        "if (device_name != b'Tesla T4') and (device_name != b'Tesla P4') and (device_name != b'Tesla P100-PCIE-16GB'):\n",
        "  raise Exception(\"\"\"\n",
        "                     Unfortunately this instance does not have a T4, P4 or P100 GPU.\\n\n",
        "                     Please make sure you've configured Colab to request a GPU instance type.\\n\n",
        "                     Sometimes Colab allocates a Tesla K80 instead of a T4, P4 or P100. Resetting the instance.If you get a K80 GPU, try Runtime -> Reset all runtimes...\"\"\")\n",
        "else:\n",
        "  print('Woo! You got the right kind of GPU!')"
      ],
      "execution_count": null,
      "outputs": [
        {
          "output_type": "stream",
          "text": [
            "Woo! You got the right kind of GPU!\n"
          ],
          "name": "stdout"
        }
      ]
    },
    {
      "cell_type": "code",
      "metadata": {
        "colab": {
          "base_uri": "https://localhost:8080/"
        },
        "id": "SHPCOxkCqpAp",
        "outputId": "0086cb71-b9dc-45a9-bdb2-0e826ced76b5"
      },
      "source": [
        "os.system('pip install pip --upgrade')\n",
        "os.system('pip install pretrainedmodels')\n",
        "os.system('pip install -U git+https://github.com/albu/albumentations --no-cache-dir') # data augmentation\n",
        "os.system('pip install -U git+https://github.com/rwightman/pytorch-image-models.git') # image models \n",
        "os.system('pip install pytorch-ignite')\n",
        "os.system('pip install efficientnet_pytorch') # efficient net torch"
      ],
      "execution_count": null,
      "outputs": [
        {
          "output_type": "execute_result",
          "data": {
            "text/plain": [
              "0"
            ]
          },
          "metadata": {
            "tags": []
          },
          "execution_count": 5
        }
      ]
    },
    {
      "cell_type": "code",
      "metadata": {
        "id": "KCK_75a4wSQw"
      },
      "source": [
        "# Install RAPIDS\n",
        "!git clone https://github.com/rapidsai/rapidsai-csp-utils.git\n",
        "!bash rapidsai-csp-utils/colab/rapids-colab.sh stable\n",
        "\n",
        "import sys, os\n",
        "\n",
        "dist_package_index = sys.path.index('/usr/local/lib/python3.7/dist-packages')\n",
        "sys.path = sys.path[:dist_package_index] + ['/usr/local/lib/python3.7/site-packages'] + sys.path[dist_package_index:]\n",
        "sys.path\n",
        "exec(open('rapidsai-csp-utils/colab/update_modules.py').read(), globals())"
      ],
      "execution_count": null,
      "outputs": []
    },
    {
      "cell_type": "code",
      "metadata": {
        "colab": {
          "base_uri": "https://localhost:8080/"
        },
        "id": "BxJ4oRDB03OK",
        "outputId": "9716563d-ed9e-44c6-9b89-b7e872753039"
      },
      "source": [
        "import cudf, cuml, cupy\n",
        "from cuml.feature_extraction.text import TfidfVectorizer\n",
        "from cuml.neighbors import NearestNeighbors\n",
        "print('RAPIDS',cuml.__version__)"
      ],
      "execution_count": null,
      "outputs": [
        {
          "output_type": "stream",
          "text": [
            "RAPIDS 0.19.0\n"
          ],
          "name": "stdout"
        }
      ]
    },
    {
      "cell_type": "code",
      "metadata": {
        "id": "-_OVPzWUwSTq"
      },
      "source": [],
      "execution_count": null,
      "outputs": []
    },
    {
      "cell_type": "code",
      "metadata": {
        "id": "kHmXYpbbqpxk"
      },
      "source": [
        "import numpy as np\n",
        "import pandas as pd\n",
        "\n",
        "import albumentations as A\n",
        "import cv2\n",
        "import math\n",
        "import gc\n",
        "import ast\n",
        "import glob\n",
        "\n",
        "import torch\n",
        "import torch.nn as nn\n",
        "import torch.nn.functional as F\n",
        "import torch.optim as optim\n",
        "\n",
        "import pretrainedmodels\n",
        "import tqdm\n",
        "import time\n",
        "import timm\n",
        "import pickle\n",
        "import torchvision.models as models\n",
        "import matplotlib.pyplot as plt\n",
        "\n",
        "from tqdm.notebook import tqdm\n",
        "from torch.utils.data import Dataset, DataLoader\n",
        "from albumentations.pytorch import ToTensor\n",
        "from albumentations import Rotate \n",
        "from torch.optim.lr_scheduler import CosineAnnealingWarmRestarts, CosineAnnealingLR, ReduceLROnPlateau\n",
        "\n",
        "from sklearn.metrics import roc_auc_score,accuracy_score,f1_score\n",
        "from sklearn.model_selection import StratifiedKFold,GroupKFold,RepeatedStratifiedKFold,KFold,train_test_split\n",
        "from sklearn.preprocessing import LabelEncoder\n",
        "from sklearn.utils import check_random_state\n",
        "from collections import Counter, defaultdict\n",
        "from scipy import spatial\n",
        "\n",
        "from efficientnet_pytorch import EfficientNet\n",
        "from albumentations import (\n",
        "    Compose, OneOf, Normalize, Resize, RandomResizedCrop, RandomCrop, VerticalFlip, HorizontalFlip, CenterCrop,\n",
        "    RandomBrightness, RandomContrast, RandomBrightnessContrast, Rotate, ShiftScaleRotate, Cutout, \n",
        "    IAAAdditiveGaussianNoise, Transpose, HueSaturationValue, CoarseDropout\n",
        "    )\n",
        "from albumentations.pytorch import ToTensorV2\n",
        "from torch.optim import Adam, SGD\n",
        "from scipy import spatial\n",
        "\n",
        "import warnings  \n",
        "warnings.filterwarnings('ignore')"
      ],
      "execution_count": null,
      "outputs": []
    },
    {
      "cell_type": "code",
      "metadata": {
        "id": "HB-UOnz-s73b"
      },
      "source": [
        "pd.set_option('display.max_rows', 5000)"
      ],
      "execution_count": null,
      "outputs": []
    },
    {
      "cell_type": "code",
      "metadata": {
        "colab": {
          "base_uri": "https://localhost:8080/"
        },
        "id": "dc8ZZFDsqrbN",
        "outputId": "da7e3033-0a66-4472-c29a-425dbae85c8e"
      },
      "source": [
        "from google.colab import drive\n",
        "drive.mount('/content/gdrive')"
      ],
      "execution_count": null,
      "outputs": [
        {
          "output_type": "stream",
          "text": [
            "Mounted at /content/gdrive\n"
          ],
          "name": "stdout"
        }
      ]
    },
    {
      "cell_type": "code",
      "metadata": {
        "id": "PFdBmODYqrd1"
      },
      "source": [
        "DATA_PATH = '/content/gdrive/MyDrive/shopee/'"
      ],
      "execution_count": null,
      "outputs": []
    },
    {
      "cell_type": "code",
      "metadata": {
        "colab": {
          "base_uri": "https://localhost:8080/",
          "height": 196
        },
        "id": "kbcbtWR95MMw",
        "outputId": "e16061f1-8a00-46e3-e1a7-ec2dce186b9c"
      },
      "source": [
        "df = pd.read_csv(DATA_PATH+'train.csv')\n",
        "df.head()"
      ],
      "execution_count": null,
      "outputs": [
        {
          "output_type": "execute_result",
          "data": {
            "text/html": [
              "<div>\n",
              "<style scoped>\n",
              "    .dataframe tbody tr th:only-of-type {\n",
              "        vertical-align: middle;\n",
              "    }\n",
              "\n",
              "    .dataframe tbody tr th {\n",
              "        vertical-align: top;\n",
              "    }\n",
              "\n",
              "    .dataframe thead th {\n",
              "        text-align: right;\n",
              "    }\n",
              "</style>\n",
              "<table border=\"1\" class=\"dataframe\">\n",
              "  <thead>\n",
              "    <tr style=\"text-align: right;\">\n",
              "      <th></th>\n",
              "      <th>posting_id</th>\n",
              "      <th>image</th>\n",
              "      <th>image_phash</th>\n",
              "      <th>title</th>\n",
              "      <th>label_group</th>\n",
              "    </tr>\n",
              "  </thead>\n",
              "  <tbody>\n",
              "    <tr>\n",
              "      <th>0</th>\n",
              "      <td>train_129225211</td>\n",
              "      <td>0000a68812bc7e98c42888dfb1c07da0.jpg</td>\n",
              "      <td>94974f937d4c2433</td>\n",
              "      <td>Paper Bag Victoria Secret</td>\n",
              "      <td>249114794</td>\n",
              "    </tr>\n",
              "    <tr>\n",
              "      <th>1</th>\n",
              "      <td>train_3386243561</td>\n",
              "      <td>00039780dfc94d01db8676fe789ecd05.jpg</td>\n",
              "      <td>af3f9460c2838f0f</td>\n",
              "      <td>Double Tape 3M VHB 12 mm x 4,5 m ORIGINAL / DO...</td>\n",
              "      <td>2937985045</td>\n",
              "    </tr>\n",
              "    <tr>\n",
              "      <th>2</th>\n",
              "      <td>train_2288590299</td>\n",
              "      <td>000a190fdd715a2a36faed16e2c65df7.jpg</td>\n",
              "      <td>b94cb00ed3e50f78</td>\n",
              "      <td>Maling TTS Canned Pork Luncheon Meat 397 gr</td>\n",
              "      <td>2395904891</td>\n",
              "    </tr>\n",
              "    <tr>\n",
              "      <th>3</th>\n",
              "      <td>train_2406599165</td>\n",
              "      <td>00117e4fc239b1b641ff08340b429633.jpg</td>\n",
              "      <td>8514fc58eafea283</td>\n",
              "      <td>Daster Batik Lengan pendek - Motif Acak / Camp...</td>\n",
              "      <td>4093212188</td>\n",
              "    </tr>\n",
              "    <tr>\n",
              "      <th>4</th>\n",
              "      <td>train_3369186413</td>\n",
              "      <td>00136d1cf4edede0203f32f05f660588.jpg</td>\n",
              "      <td>a6f319f924ad708c</td>\n",
              "      <td>Nescafe \\xc3\\x89clair Latte 220ml</td>\n",
              "      <td>3648931069</td>\n",
              "    </tr>\n",
              "  </tbody>\n",
              "</table>\n",
              "</div>"
            ],
            "text/plain": [
              "         posting_id  ... label_group\n",
              "0   train_129225211  ...   249114794\n",
              "1  train_3386243561  ...  2937985045\n",
              "2  train_2288590299  ...  2395904891\n",
              "3  train_2406599165  ...  4093212188\n",
              "4  train_3369186413  ...  3648931069\n",
              "\n",
              "[5 rows x 5 columns]"
            ]
          },
          "metadata": {
            "tags": []
          },
          "execution_count": 12
        }
      ]
    },
    {
      "cell_type": "code",
      "metadata": {
        "colab": {
          "base_uri": "https://localhost:8080/",
          "height": 313
        },
        "id": "PJgF0c2FqrmC",
        "outputId": "d45dd962-28d5-4d31-ba21-a69a3f4ecb3d"
      },
      "source": [
        "train = pd.read_csv(DATA_PATH+'siamese_data.csv')\n",
        "print(train.shape)\n",
        "train.head()"
      ],
      "execution_count": null,
      "outputs": [
        {
          "output_type": "stream",
          "text": [
            "(55706, 7)\n"
          ],
          "name": "stdout"
        },
        {
          "output_type": "execute_result",
          "data": {
            "text/html": [
              "<div>\n",
              "<style scoped>\n",
              "    .dataframe tbody tr th:only-of-type {\n",
              "        vertical-align: middle;\n",
              "    }\n",
              "\n",
              "    .dataframe tbody tr th {\n",
              "        vertical-align: top;\n",
              "    }\n",
              "\n",
              "    .dataframe thead th {\n",
              "        text-align: right;\n",
              "    }\n",
              "</style>\n",
              "<table border=\"1\" class=\"dataframe\">\n",
              "  <thead>\n",
              "    <tr style=\"text-align: right;\">\n",
              "      <th></th>\n",
              "      <th>posting_id_1</th>\n",
              "      <th>posting_id_2</th>\n",
              "      <th>title_1</th>\n",
              "      <th>title_2</th>\n",
              "      <th>image_1</th>\n",
              "      <th>image_2</th>\n",
              "      <th>label</th>\n",
              "    </tr>\n",
              "  </thead>\n",
              "  <tbody>\n",
              "    <tr>\n",
              "      <th>0</th>\n",
              "      <td>train_129225211</td>\n",
              "      <td>train_2278313361</td>\n",
              "      <td>Paper Bag Victoria Secret</td>\n",
              "      <td>PAPER BAG VICTORIA SECRET</td>\n",
              "      <td>0000a68812bc7e98c42888dfb1c07da0.jpg</td>\n",
              "      <td>f83b49a86a0ee8592e3bf0204da3fbdf.jpg</td>\n",
              "      <td>1</td>\n",
              "    </tr>\n",
              "    <tr>\n",
              "      <th>1</th>\n",
              "      <td>train_129225211</td>\n",
              "      <td>train_866245802</td>\n",
              "      <td>Paper Bag Victoria Secret</td>\n",
              "      <td>BGSR Jaket Cagoule / Jaket Cagoule Premium / J...</td>\n",
              "      <td>0000a68812bc7e98c42888dfb1c07da0.jpg</td>\n",
              "      <td>5b9a1c01bf01447982a8f0a593909d07.jpg</td>\n",
              "      <td>0</td>\n",
              "    </tr>\n",
              "    <tr>\n",
              "      <th>2</th>\n",
              "      <td>train_129225211</td>\n",
              "      <td>train_2591794018</td>\n",
              "      <td>Paper Bag Victoria Secret</td>\n",
              "      <td>Singlet Kazel Circus 1 kotak isi  4pcs singlet...</td>\n",
              "      <td>0000a68812bc7e98c42888dfb1c07da0.jpg</td>\n",
              "      <td>5baebaeb68a13aa2107adebd0dd077f2.jpg</td>\n",
              "      <td>0</td>\n",
              "    </tr>\n",
              "    <tr>\n",
              "      <th>3</th>\n",
              "      <td>train_129225211</td>\n",
              "      <td>train_2997658812</td>\n",
              "      <td>Paper Bag Victoria Secret</td>\n",
              "      <td>Hitori Mask - Masker Kain Bahan Scuba Tebal da...</td>\n",
              "      <td>0000a68812bc7e98c42888dfb1c07da0.jpg</td>\n",
              "      <td>5b87d019a03b1c6f04746b743b7fdcd9.jpg</td>\n",
              "      <td>0</td>\n",
              "    </tr>\n",
              "    <tr>\n",
              "      <th>4</th>\n",
              "      <td>train_3386243561</td>\n",
              "      <td>train_3423213080</td>\n",
              "      <td>Double Tape 3M VHB 12 mm x 4,5 m ORIGINAL / DO...</td>\n",
              "      <td>Double Tape VHB 3M ORIGINAL 12mm x 4.5mm Busa ...</td>\n",
              "      <td>00039780dfc94d01db8676fe789ecd05.jpg</td>\n",
              "      <td>8cbe4bf9706bc177fd61071ef776be8c.jpg</td>\n",
              "      <td>1</td>\n",
              "    </tr>\n",
              "  </tbody>\n",
              "</table>\n",
              "</div>"
            ],
            "text/plain": [
              "       posting_id_1  ... label\n",
              "0   train_129225211  ...     1\n",
              "1   train_129225211  ...     0\n",
              "2   train_129225211  ...     0\n",
              "3   train_129225211  ...     0\n",
              "4  train_3386243561  ...     1\n",
              "\n",
              "[5 rows x 7 columns]"
            ]
          },
          "metadata": {
            "tags": []
          },
          "execution_count": 25
        }
      ]
    },
    {
      "cell_type": "code",
      "metadata": {
        "id": "QiywtY4QqrpD",
        "colab": {
          "base_uri": "https://localhost:8080/",
          "height": 265
        },
        "outputId": "6d2c049a-2e37-4403-eed8-7c9e3cb0716b"
      },
      "source": [
        "image = cv2.imread(DATA_PATH+'/train_images/00117e4fc239b1b641ff08340b429633.jpg')\n",
        "image.shape\n",
        "plt.imshow(image)\n",
        "plt.axis('off')"
      ],
      "execution_count": null,
      "outputs": [
        {
          "output_type": "execute_result",
          "data": {
            "text/plain": [
              "(-0.5, 639.5, 639.5, -0.5)"
            ]
          },
          "metadata": {
            "tags": []
          },
          "execution_count": 13
        },
        {
          "output_type": "display_data",
          "data": {
            "image/png": "[encoded data removed]",
            "text/plain": [
              "<Figure size 432x288 with 1 Axes>"
            ]
          },
          "metadata": {
            "tags": [],
            "needs_background": "light"
          }
        }
      ]
    },
    {
      "cell_type": "code",
      "metadata": {
        "id": "L7ppCOh8qrrt",
        "colab": {
          "base_uri": "https://localhost:8080/"
        },
        "outputId": "96a068cd-a4a6-4218-e4f5-05363dd85fac"
      },
      "source": [
        "df['label_group'].nunique()"
      ],
      "execution_count": null,
      "outputs": [
        {
          "output_type": "execute_result",
          "data": {
            "text/plain": [
              "11014"
            ]
          },
          "metadata": {
            "tags": []
          },
          "execution_count": 12
        }
      ]
    },
    {
      "cell_type": "markdown",
      "metadata": {
        "id": "Sh8BMZlCxkGd"
      },
      "source": [
        "## Define dataset"
      ]
    },
    {
      "cell_type": "code",
      "metadata": {
        "colab": {
          "base_uri": "https://localhost:8080/"
        },
        "id": "qjWgkKEXzslW",
        "outputId": "95498d39-3904-4c76-b609-8eede8018a06"
      },
      "source": [
        "class Config:\n",
        "    device_type = 'GPU'\n",
        "    image_size = 512\n",
        "    batch_size = 32\n",
        "    n_folds = 5\n",
        "    n_epochs = 1\n",
        "    lr = 1e-4\n",
        "    num_workers = 4\n",
        "    nprocs = 8  #[1,8]\n",
        "    eval_freq = 20\n",
        "    scheduler = 'CosineAnnealingWarmRestarts' #'CosineAnnealingLR'\n",
        "    min_lr = 1e-6\n",
        "    weight_decay = 1e-6\n",
        "    max_grad_norm = 1000\n",
        "    n_classes = 11014\n",
        "    debug = False\n",
        "    T_max=4\n",
        "    T_0=10\n",
        "    seed=42\n",
        "\n",
        "if Config.debug:\n",
        "    Config.nprocs = 1\n",
        "if Config.device_type=='GPU':\n",
        "    device=torch.device('cuda' if torch.cuda.is_available() else 'cpu')\n",
        "    print(device)"
      ],
      "execution_count": null,
      "outputs": [
        {
          "output_type": "stream",
          "text": [
            "cuda\n"
          ],
          "name": "stdout"
        }
      ]
    },
    {
      "cell_type": "code",
      "metadata": {
        "id": "wuQmuniexno9"
      },
      "source": [
        "# seed everything\n",
        "def seed_torch(seed=42):\n",
        "    np.random.seed(seed)\n",
        "    os.environ['PYTHONHASHSEED'] = str(seed)\n",
        "    np.random.seed(seed)\n",
        "    torch.manual_seed(seed)\n",
        "    torch.cuda.manual_seed(seed)\n",
        "    torch.backends.cudnn.deterministic = True\n",
        "\n",
        "seed_torch(seed=Config.seed)"
      ],
      "execution_count": null,
      "outputs": []
    },
    {
      "cell_type": "code",
      "metadata": {
        "id": "ZSojf7-_xnmN"
      },
      "source": [
        "class ShopeeDataset(Dataset):\n",
        "    \n",
        "    def __init__(self,\n",
        "                 df,\n",
        "                 path,\n",
        "                 transform,\n",
        "                 is_train = True,\n",
        "                 is_aug = True,\n",
        "                 \n",
        "                 ):\n",
        "        super(ShopeeDataset,self).__init__()\n",
        "        self.df = df\n",
        "        self.path = path\n",
        "        self.transform = transform\n",
        "        self.is_train = is_train\n",
        "        self.is_aug = is_aug\n",
        "\n",
        "    def __len__(self):\n",
        "        return len(self.df)\n",
        "\n",
        "    def __getitem__(self,index):\n",
        "        src = self.path+'/'+self.df.loc[index, 'image']\n",
        "        image = cv2.imread(src)\n",
        "        image = cv2.cvtColor(image, cv2.COLOR_BGR2RGB)\n",
        "        if self.is_aug:\n",
        "            augmented = self.transform(image=image)\n",
        "            image = augmented['image']\n",
        "        \n",
        "        if self.is_train:\n",
        "            label = self.df.loc[index,'label_group']\n",
        "            label = torch.tensor(label).float()\n",
        "        \n",
        "        return image, label if self.is_train else image\n",
        "\n",
        "class ShopeeSiameseDataset(Dataset):\n",
        "    \n",
        "    def __init__(self,\n",
        "                 df,\n",
        "                 path,\n",
        "                 transform,\n",
        "                 is_train = True,\n",
        "                 is_aug = True,\n",
        "                 \n",
        "                 ):\n",
        "        super(ShopeeSiameseDataset,self).__init__()\n",
        "        self.df = df\n",
        "        self.path = path\n",
        "        self.transform = transform\n",
        "        self.is_train = is_train\n",
        "        self.is_aug = is_aug\n",
        "\n",
        "    def __len__(self):\n",
        "        return len(self.df)\n",
        "\n",
        "    def __getitem__(self,index):\n",
        "        src_1 = self.path+'/'+self.df.loc[index, 'image_1']\n",
        "        src_2 = self.path+'/'+self.df.loc[index, 'image_2']\n",
        "        image_1 = cv2.imread(src_1)\n",
        "        image_1 = cv2.cvtColor(image_1, cv2.COLOR_BGR2RGB)\n",
        "\n",
        "        image_2 = cv2.imread(src_2)\n",
        "        image_2 = cv2.cvtColor(image_2, cv2.COLOR_BGR2RGB)\n",
        "        # image = image/255.0\n",
        "        if self.is_aug:\n",
        "            augmented_1 = self.transform(image=image_1)\n",
        "            image_1 = augmented_1['image']\n",
        "            # image_1 = image_1.transpose(2,0,1)\n",
        "            # image_1 = image_1/255.0\n",
        "\n",
        "            augmented_2 = self.transform(image=image_2)\n",
        "            image_2 = augmented_2['image']\n",
        "            # image_2 = image_2.transpose(2,0,1)\n",
        "            # image_2 = image_2/255.0\n",
        "        \n",
        "        if self.is_train:\n",
        "            label = self.df.loc[index,'label']\n",
        "            label = torch.tensor(label).float()\n",
        "        \n",
        "        return image_1, image_2, label if self.is_train else image"
      ],
      "execution_count": null,
      "outputs": []
    },
    {
      "cell_type": "code",
      "metadata": {
        "id": "9VtBg5CxxnrS"
      },
      "source": [
        "def get_transforms(*, data):\n",
        "    \n",
        "    if data == 'train':\n",
        "        return Compose([\n",
        "            Resize(Config.image_size, Config.image_size),\n",
        "            # RandomResizedCrop(Config.image_size, Config.image_size),\n",
        "            # # Transpose(p=0.5),\n",
        "            # HorizontalFlip(p=0.5),\n",
        "            # VerticalFlip(p=0.5),\n",
        "            # # RandomBrightnessContrast(p=0.2, brightness_limit=(-0.2, 0.2), contrast_limit=(-0.2, 0.2)),\n",
        "            # # HueSaturationValue(p=0.2, hue_shift_limit=0.2, sat_shift_limit=0.2, val_shift_limit=0.2),\n",
        "            # ShiftScaleRotate(p=0.5),\n",
        "            # # ShiftScaleRotate(p=0.2, shift_limit=0.0625, scale_limit=0.2, rotate_limit=20),\n",
        "            # CoarseDropout(p=0.2),\n",
        "            # Cutout(p=0.2, max_h_size=16, max_w_size=16, fill_value=(0., 0., 0.), num_holes=16),\n",
        "            Normalize(\n",
        "                mean=[0.485, 0.456, 0.406],\n",
        "                std=[0.229, 0.224, 0.225],\n",
        "            ),\n",
        "            ToTensorV2(),\n",
        "        ])\n",
        "\n",
        "    elif data == 'valid':\n",
        "        return Compose([\n",
        "            # RandomResizedCrop(Config.image_size, Config.image_size),\n",
        "            # CenterCrop(Config.image_size, Config.image_size,p=1.0),\n",
        "            Resize(Config.image_size, Config.image_size),\n",
        "            Normalize(\n",
        "                mean=[0.485, 0.456, 0.406],\n",
        "                std=[0.229, 0.224, 0.225],\n",
        "            ),\n",
        "            ToTensorV2(),\n",
        "        ])\n",
        "    elif data=='test':\n",
        "        return Compose([\n",
        "                        Resize(Config.image_size,Config.image_size),\n",
        "\n",
        "                        Normalize(\n",
        "                            mean=[0.485, 0.456, 0.406],\n",
        "                            std=[0.229, 0.224, 0.225],\n",
        "            ),\n",
        "                        ToTensorV2(),\n",
        "        ])"
      ],
      "execution_count": null,
      "outputs": []
    },
    {
      "cell_type": "code",
      "metadata": {
        "id": "WKWweWGhKc9a"
      },
      "source": [],
      "execution_count": null,
      "outputs": []
    },
    {
      "cell_type": "markdown",
      "metadata": {
        "id": "aqI95fX4KdlG"
      },
      "source": [
        "## get pretrained efficientnet models"
      ]
    },
    {
      "cell_type": "code",
      "metadata": {
        "colab": {
          "base_uri": "https://localhost:8080/"
        },
        "id": "f5Ud_cCiKo47",
        "outputId": "6981c40a-12bb-45bd-bf8e-8d7bbf57652c"
      },
      "source": [
        "#get all saved model names\n",
        "model_names = glob.glob(DATA_PATH+'*.pth')\n",
        "model_names"
      ],
      "execution_count": null,
      "outputs": [
        {
          "output_type": "execute_result",
          "data": {
            "text/plain": [
              "['/content/gdrive/MyDrive/shopee/efficientnet_b3_size_512_fold_2_0.19864678126325566.pth',\n",
              " '/content/gdrive/MyDrive/shopee/efficientnet_b3_size_512_fold_3_0.18886887905865352.pth',\n",
              " '/content/gdrive/MyDrive/shopee/efficientnet_b3_size_512_fold_4_0.19710620647427257.pth',\n",
              " '/content/gdrive/MyDrive/shopee/efficientnet_b3_size_512_fold_0_0.19649354238704467.pth',\n",
              " '/content/gdrive/MyDrive/shopee/efficientnet_b3_size_512_fold_1_0.17506829626027126.pth']"
            ]
          },
          "metadata": {
            "tags": []
          },
          "execution_count": 16
        }
      ]
    },
    {
      "cell_type": "code",
      "metadata": {
        "id": "jFDpqKAIS9aP"
      },
      "source": [
        "class ShoppeeSiameseModel(nn.Module):\n",
        "\n",
        "    def __init__(self,base_name,out_features):\n",
        "        super(ShoppeeSiameseModel,self).__init__()\n",
        "        self.base_name = base_name\n",
        "        self.base = timm.create_model(model_name=self.base_name, pretrained=True)\n",
        "        in_features = self.base.classifier.in_features\n",
        "        # in_features = self.base.fc.in_features\n",
        "        self.base.classifier = nn.Identity()\n",
        "        self.base.global_pool = nn.Identity()\n",
        "        self.pooling = nn.AdaptiveAvgPool2d(1)\n",
        "\n",
        "        # self.dropout = nn.Dropout(p=0.1)\n",
        "        # self.classifier = nn.Sequential(\n",
        "        #                                 nn.Linear(in_features, in_features),\n",
        "        #                                 nn.ReLU(),\n",
        "        #                                 # nn.Linear(in_features//2,out_features)\n",
        "        #                                 )\n",
        "        \n",
        "        # self.final = nn.Linear(in_features,1)\n",
        "        self.final = nn.Sequential(\n",
        "                                    nn.Dropout(0.1),\n",
        "                                    nn.Linear(in_features,1)\n",
        "                                    )\n",
        "\n",
        "    \n",
        "    def forward_once(self,x):\n",
        "        bs = x.size(0)\n",
        "        x = self.base(x)\n",
        "        x = self.pooling(x).view(bs,-1)\n",
        "        # x = self.classifier(x)\n",
        "        return x\n",
        "    \n",
        "    def forward(self,image_1,image_2):\n",
        "        bs = image_1.size(0)\n",
        "        feature_1 = self.forward_once(image_1)\n",
        "        feature_2 = self.forward_once(image_2)\n",
        "\n",
        "        # feature = torch.abs(feature_1 - feature_2)\n",
        "        feature = torch.mul(feature_1,feature_2)\n",
        "        feature = F.normalize(feature)\n",
        "        # feature = nn.Dropout(p=0.2)(feature)\n",
        "        # feature = nn.ReLU()(feature)\n",
        "        # feature = nn.Sigmoid()(feature)\n",
        "        # feature = feature.view(bs,-1)\n",
        "        output = self.final(feature)\n",
        "\n",
        "        return output"
      ],
      "execution_count": null,
      "outputs": []
    },
    {
      "cell_type": "code",
      "metadata": {
        "id": "XC_wI49A4Oy4"
      },
      "source": [
        "def get_feature_extractor(device,base_name,model_path):\n",
        "    model = ShoppeeSiameseModel(base_name=base_name,out_features=128)\n",
        "    model.to(device)\n",
        "    model.load_state_dict(torch.load(model_path))\n",
        "    feature_extractor = torch.nn.Sequential(*list(model.children())[:-1])\n",
        "    feature_extractor.to(device)\n",
        "    return feature_extractor"
      ],
      "execution_count": null,
      "outputs": []
    },
    {
      "cell_type": "code",
      "metadata": {
        "id": "gt8QWGbjXZq0"
      },
      "source": [
        "device = torch.device('cuda')\n",
        "feature_extractor = get_feature_extractor(device,base_name='efficientnet_b3',model_path=model_names[11])\n",
        "feature_extractor.to(device)"
      ],
      "execution_count": null,
      "outputs": []
    },
    {
      "cell_type": "code",
      "metadata": {
        "id": "xVG7Zam9FNUI"
      },
      "source": [
        "timm.list_models()"
      ],
      "execution_count": null,
      "outputs": []
    },
    {
      "cell_type": "code",
      "metadata": {
        "id": "XISrcsk-XZt-"
      },
      "source": [
        "# #load the pretrained pytorch models\n",
        "base_name = 'resnet200d'\n",
        "model = ShoppeeSiameseModel(base_name=base_name,out_features=128)\n",
        "model.to(device)\n"
      ],
      "execution_count": null,
      "outputs": []
    },
    {
      "cell_type": "code",
      "metadata": {
        "id": "pdbJyU5gXZxM"
      },
      "source": [
        "# feature_extractor = torch.nn.Sequential(*list(model.children())[:-1])\n",
        "# feature_extractor.to(device)"
      ],
      "execution_count": null,
      "outputs": []
    },
    {
      "cell_type": "code",
      "metadata": {
        "id": "rqEUxLIVYIo3"
      },
      "source": [],
      "execution_count": null,
      "outputs": []
    },
    {
      "cell_type": "code",
      "metadata": {
        "id": "4hbqMGozYIrZ"
      },
      "source": [
        "kf = StratifiedKFold(n_splits=5,shuffle=True,random_state=42)\n",
        "\n",
        "train_inds = []\n",
        "valid_inds = []\n",
        "for train_idx, valid_idx in kf.split(train,train['label']):\n",
        "    print(len(train_idx)/len(valid_idx))\n",
        "    train_inds.append(train_idx)\n",
        "    valid_inds.append(valid_idx)"
      ],
      "execution_count": null,
      "outputs": []
    },
    {
      "cell_type": "code",
      "metadata": {
        "colab": {
          "base_uri": "https://localhost:8080/"
        },
        "id": "lJ-0ju72YAuB",
        "outputId": "9612131a-f4dd-4fdd-9da8-f4b3f0dcbcb2"
      },
      "source": [
        "train_df = train.loc[train_inds[2]].reset_index(drop=True)\n",
        "valid_df = train.loc[valid_inds[2]].reset_index(drop=True)\n",
        "train_df.shape,valid_df.shape"
      ],
      "execution_count": null,
      "outputs": [
        {
          "output_type": "execute_result",
          "data": {
            "text/plain": [
              "((44565, 7), (11141, 7))"
            ]
          },
          "metadata": {
            "tags": []
          },
          "execution_count": 80
        }
      ]
    },
    {
      "cell_type": "code",
      "metadata": {
        "id": "gHauEo7_XZ0T"
      },
      "source": [
        "valid_dataset = ShopeeSiameseDataset(df=valid_df,path=DATA_PATH+'train_images/',transform=get_transforms(data='valid'),is_train=True,is_aug=True)"
      ],
      "execution_count": null,
      "outputs": []
    },
    {
      "cell_type": "code",
      "metadata": {
        "id": "kjeX8qoSaFgg"
      },
      "source": [
        "valid_dataloader = torch.utils.data.DataLoader(\n",
        "                                               valid_dataset,\n",
        "                                               batch_size = 64,\n",
        "                                               drop_last=False,\n",
        "                                               num_workers = 8,\n",
        "                                               shuffle=False\n",
        "                                               \n",
        "                                               )"
      ],
      "execution_count": null,
      "outputs": []
    },
    {
      "cell_type": "code",
      "metadata": {
        "colab": {
          "base_uri": "https://localhost:8080/"
        },
        "id": "9rjGXeuXaFjB",
        "outputId": "866b0fb6-b0fc-4426-8260-590171344b6e"
      },
      "source": [
        "%%time\n",
        "with torch.no_grad():\n",
        "    preds = []\n",
        "    trues = []\n",
        "\n",
        "    for step, (images_1,images_2,labels) in enumerate(valid_dataloader):\n",
        "        if step>=5:break\n",
        "        images_1 = images_1.to(device)\n",
        "        images_2 = images_2.to(device)\n",
        "\n",
        "        v1 = feature_extractor(images_1)\n",
        "        v2 = feature_extractor(images_2)\n",
        "\n",
        "        v1 = v1.to('cpu').numpy().squeeze()\n",
        "        v2 = v2.to('cpu').numpy().squeeze()\n",
        "        scores = [1 - np.clip(spatial.distance.cosine(x, y),0,1) for (x,y) in zip(v1,v2)]\n",
        "\n",
        "        preds.extend(scores)\n",
        "        trues.extend(labels.to('cpu').numpy().squeeze())"
      ],
      "execution_count": null,
      "outputs": [
        {
          "output_type": "stream",
          "text": [
            "CPU times: user 2.55 s, sys: 2.26 s, total: 4.81 s\n",
            "Wall time: 47.3 s\n"
          ],
          "name": "stdout"
        }
      ]
    },
    {
      "cell_type": "code",
      "metadata": {
        "colab": {
          "base_uri": "https://localhost:8080/"
        },
        "id": "AXtK1q00svZj",
        "outputId": "925de5c4-f1f7-4899-8a8a-5f50b0aa951d"
      },
      "source": [
        "pred_labels = (np.array(preds)>0.5).astype(int)\n",
        "print((pred_labels==trues).mean())\n",
        "result = pd.DataFrame(columns=['prob','pred_label','trues'])\n",
        "result['prob'] = preds\n",
        "result['pred_label'] = pred_labels\n",
        "result['trues'] = trues"
      ],
      "execution_count": null,
      "outputs": [
        {
          "output_type": "stream",
          "text": [
            "0.8625796607126829\n"
          ],
          "name": "stdout"
        }
      ]
    },
    {
      "cell_type": "code",
      "metadata": {
        "id": "cYtVLyvWyZoe"
      },
      "source": [
        "same_labels = valid_df.loc[valid_df.label==1].index.values\n",
        "diff_labels = valid_df.loc[~valid_df.index.isin(same_labels)].index.values"
      ],
      "execution_count": null,
      "outputs": []
    },
    {
      "cell_type": "code",
      "metadata": {
        "id": "GxGofev9uN8d"
      },
      "source": [
        "ind = same_labels[567]\n",
        "images_1, images_2,label = valid_dataset.__getitem__(ind)\n",
        "plt.subplot(1,2,1)\n",
        "plt.imshow(images_1.permute(1,2,0))\n",
        "plt.subplot(1,2,2)\n",
        "plt.imshow(images_2.permute(1,2,0))\n",
        "print(preds[ind],label,ind)\n",
        "        "
      ],
      "execution_count": null,
      "outputs": []
    },
    {
      "cell_type": "code",
      "metadata": {
        "id": "11wVFq3LuOC9"
      },
      "source": [],
      "execution_count": null,
      "outputs": []
    },
    {
      "cell_type": "code",
      "metadata": {
        "id": "GgJcJkwSuOGV"
      },
      "source": [],
      "execution_count": null,
      "outputs": []
    },
    {
      "cell_type": "markdown",
      "metadata": {
        "id": "gs1q3ewW5Uit"
      },
      "source": [
        "# collect all similar items"
      ]
    },
    {
      "cell_type": "code",
      "metadata": {
        "id": "u0v_6-_g6w-W"
      },
      "source": [
        "dataset = ShopeeDataset(df=df,path=DATA_PATH+'train_images/',transform=get_transforms(data='valid'),is_train=True,is_aug=True)\n",
        "dataloader = torch.utils.data.DataLoader(\n",
        "    dataset = dataset,\n",
        "    batch_size = 32,\n",
        "    drop_last = False,\n",
        "    num_workers = Config.num_workers,\n",
        "    shuffle=False,\n",
        ")"
      ],
      "execution_count": null,
      "outputs": []
    },
    {
      "cell_type": "code",
      "metadata": {
        "id": "HGXpBp3FORMF"
      },
      "source": [
        "emb_dim = 1536\n",
        "embeddings = []"
      ],
      "execution_count": null,
      "outputs": []
    },
    {
      "cell_type": "code",
      "metadata": {
        "colab": {
          "base_uri": "https://localhost:8080/",
          "height": 99,
          "referenced_widgets": [
            "90d14c48148b4a71ac55feb4c6eae6c9",
            "ff26beacfd28425ab898b9a7027eb3d9",
            "54a59ec0a38547ae9433f26e81650e30",
            "ecf08fe557bf4ba7a3514b9e5c10cfdc",
            "9cb811f2cd2b460989597e0191fc79db",
            "50f61fe604c14baea1fe2d62bb3bbe62",
            "e84836ef4ab84f83adf602a53441b3b2",
            "89e32950c4cd42848793a230fadb8e68",
            "87880b0c49a6493f940a3d0e444ad8a3",
            "fcd6c8a4483647af82d3e30c40ffed72",
            "3753a923de2640dba043718463228b91"
          ]
        },
        "id": "8L_0fZxo5pOt",
        "outputId": "10fbb81c-7b82-4e40-b883-40d9a077a24f"
      },
      "source": [
        "%%time\n",
        "tbar = tqdm(dataloader, desc='Calculating embedding')\n",
        "with torch.no_grad(): # this is important\n",
        "    for step, (images,labels) in enumerate(tbar):\n",
        "        # if step>5:break\n",
        "        images = images.to(device)\n",
        "        labels = labels.to(device)\n",
        "\n",
        "        v = feature_extractor(images)\n",
        "        v = v.to('cpu').numpy().squeeze()\n",
        "        embeddings.extend(v)"
      ],
      "execution_count": null,
      "outputs": [
        {
          "output_type": "display_data",
          "data": {
            "application/vnd.jupyter.widget-view+json": {
              "model_id": "90d14c48148b4a71ac55feb4c6eae6c9",
              "version_minor": 0,
              "version_major": 2
            },
            "text/plain": [
              "HBox(children=(HTML(value='Calculating embedding'), FloatProgress(value=0.0, max=1071.0), HTML(value='')))"
            ]
          },
          "metadata": {
            "tags": []
          }
        },
        {
          "output_type": "stream",
          "text": [
            "\n",
            "CPU times: user 1min 54s, sys: 1min 16s, total: 3min 11s\n",
            "Wall time: 41min 17s\n"
          ],
          "name": "stdout"
        }
      ]
    },
    {
      "cell_type": "code",
      "metadata": {
        "colab": {
          "base_uri": "https://localhost:8080/"
        },
        "id": "J9e6miXlTVur",
        "outputId": "830c8d47-02a6-495f-c623-df256a59a61a"
      },
      "source": [
        "embeddings = np.squeeze(embeddings)\n",
        "embeddings.shape"
      ],
      "execution_count": null,
      "outputs": [
        {
          "output_type": "execute_result",
          "data": {
            "text/plain": [
              "(34250, 1536)"
            ]
          },
          "metadata": {
            "tags": []
          },
          "execution_count": 36
        }
      ]
    },
    {
      "cell_type": "code",
      "metadata": {
        "id": "Ghch8e0-DSe2"
      },
      "source": [
        "with open(DATA_PATH+'efficientnet_b4_size_512_fold_3.pkl','wb') as handle:\n",
        "    pickle.dump(embeddings,handle)\n",
        "handle.close()"
      ],
      "execution_count": null,
      "outputs": []
    },
    {
      "cell_type": "code",
      "metadata": {
        "colab": {
          "base_uri": "https://localhost:8080/"
        },
        "id": "Dlldizw6T1u2",
        "outputId": "47f5beac-3346-48e7-aa9b-9e3817a4e4d3"
      },
      "source": [
        "embeddings.shape"
      ],
      "execution_count": null,
      "outputs": [
        {
          "output_type": "execute_result",
          "data": {
            "text/plain": [
              "(34250, 1536)"
            ]
          },
          "metadata": {
            "tags": []
          },
          "execution_count": 38
        }
      ]
    },
    {
      "cell_type": "code",
      "metadata": {
        "colab": {
          "base_uri": "https://localhost:8080/"
        },
        "id": "2kxtnUi1UK3w",
        "outputId": "e0ba214d-112d-45bf-b86c-291d080ffc4e"
      },
      "source": [
        "dist = np.clip(spatial.distance.cdist([embeddings[15459]],embeddings,'cosine'),0,1)[0]\n",
        "dist"
      ],
      "execution_count": null,
      "outputs": [
        {
          "output_type": "execute_result",
          "data": {
            "text/plain": [
              "array([0.84581011, 0.77036446, 0.79151774, ..., 0.97904526, 0.80370894,\n",
              "       0.91452787])"
            ]
          },
          "metadata": {
            "tags": []
          },
          "execution_count": 277
        }
      ]
    },
    {
      "cell_type": "code",
      "metadata": {
        "colab": {
          "base_uri": "https://localhost:8080/"
        },
        "id": "Fts56rpcsusn",
        "outputId": "993ce4d6-ec3b-4d57-8d8e-67204b39b98c"
      },
      "source": [
        "np.argsort(dist)[:10],dist[15459]"
      ],
      "execution_count": null,
      "outputs": [
        {
          "output_type": "execute_result",
          "data": {
            "text/plain": [
              "(array([15459, 20841, 23261, 20283, 27086, 28084, 22785, 25806,  6295,\n",
              "        13863]), 0.0)"
            ]
          },
          "metadata": {
            "tags": []
          },
          "execution_count": 282
        }
      ]
    },
    {
      "cell_type": "code",
      "metadata": {
        "colab": {
          "base_uri": "https://localhost:8080/",
          "height": 233
        },
        "id": "6-6deO0VUDJk",
        "outputId": "c3929e4c-467c-473c-817c-300699d4c6bb"
      },
      "source": [
        "i,j = 15459,20283\n",
        "image_1 = cv2.imread(DATA_PATH+'train_images/'+df.iloc[i]['image'])\n",
        "image_2 = cv2.imread(DATA_PATH+'train_images/'+df.iloc[j]['image'])\n",
        "\n",
        "plt.subplot(1,2,1)\n",
        "plt.imshow(image_1)\n",
        "plt.title(df.iloc[i]['label_group'])\n",
        "plt.subplot(1,2,2)\n",
        "plt.imshow(image_2)\n",
        "plt.title(df.iloc[j]['label_group'])"
      ],
      "execution_count": null,
      "outputs": [
        {
          "output_type": "execute_result",
          "data": {
            "text/plain": [
              "Text(0.5, 1.0, '98002181')"
            ]
          },
          "metadata": {
            "tags": []
          },
          "execution_count": 286
        },
        {
          "output_type": "display_data",
          "data": {
            "image/png": "[encoded data removed]",
            "text/plain": [
              "<Figure size 432x288 with 2 Axes>"
            ]
          },
          "metadata": {
            "tags": [],
            "needs_background": "light"
          }
        }
      ]
    },
    {
      "cell_type": "code",
      "metadata": {
        "id": "5GzdHZXnUDNO"
      },
      "source": [],
      "execution_count": null,
      "outputs": []
    },
    {
      "cell_type": "markdown",
      "metadata": {
        "id": "iKe7HYQs3zsX"
      },
      "source": [
        "# use cuML KNN for classify embeddings"
      ]
    },
    {
      "cell_type": "code",
      "metadata": {
        "id": "sKo2MgEnT115"
      },
      "source": [],
      "execution_count": null,
      "outputs": []
    },
    {
      "cell_type": "code",
      "metadata": {
        "id": "Nh2huKavju9n"
      },
      "source": [],
      "execution_count": null,
      "outputs": []
    },
    {
      "cell_type": "code",
      "metadata": {
        "id": "eUc2Hxul4_Fk"
      },
      "source": [],
      "execution_count": null,
      "outputs": []
    },
    {
      "cell_type": "code",
      "metadata": {
        "id": "C3RMPE-K4_Ix"
      },
      "source": [],
      "execution_count": null,
      "outputs": []
    },
    {
      "cell_type": "markdown",
      "metadata": {
        "id": "Qg8sOIVq2qtm"
      },
      "source": [
        "# use cuML from rapids for tfidf vectorizer"
      ]
    },
    {
      "cell_type": "code",
      "metadata": {
        "colab": {
          "base_uri": "https://localhost:8080/"
        },
        "id": "EDhEai5l2y1M",
        "outputId": "0f61d01b-5450-4b9a-b6f3-5938bba61de0"
      },
      "source": [
        "test = pd.read_csv(DATA_PATH+'train.csv')\n",
        "test_gf = cudf.DataFrame(test)\n",
        "test_gf.shape"
      ],
      "execution_count": null,
      "outputs": [
        {
          "output_type": "execute_result",
          "data": {
            "text/plain": [
              "(34250, 5)"
            ]
          },
          "metadata": {
            "tags": []
          },
          "execution_count": 22
        }
      ]
    },
    {
      "cell_type": "code",
      "metadata": {
        "colab": {
          "base_uri": "https://localhost:8080/",
          "height": 196
        },
        "id": "bB55KN452y8W",
        "outputId": "69ea1fe2-9b01-4c45-a1ee-d360c173025a"
      },
      "source": [
        "test_gf.head()"
      ],
      "execution_count": null,
      "outputs": [
        {
          "output_type": "execute_result",
          "data": {
            "text/html": [
              "<div>\n",
              "<style scoped>\n",
              "    .dataframe tbody tr th:only-of-type {\n",
              "        vertical-align: middle;\n",
              "    }\n",
              "\n",
              "    .dataframe tbody tr th {\n",
              "        vertical-align: top;\n",
              "    }\n",
              "\n",
              "    .dataframe thead th {\n",
              "        text-align: right;\n",
              "    }\n",
              "</style>\n",
              "<table border=\"1\" class=\"dataframe\">\n",
              "  <thead>\n",
              "    <tr style=\"text-align: right;\">\n",
              "      <th></th>\n",
              "      <th>posting_id</th>\n",
              "      <th>image</th>\n",
              "      <th>image_phash</th>\n",
              "      <th>title</th>\n",
              "      <th>label_group</th>\n",
              "    </tr>\n",
              "  </thead>\n",
              "  <tbody>\n",
              "    <tr>\n",
              "      <th>0</th>\n",
              "      <td>train_129225211</td>\n",
              "      <td>0000a68812bc7e98c42888dfb1c07da0.jpg</td>\n",
              "      <td>94974f937d4c2433</td>\n",
              "      <td>Paper Bag Victoria Secret</td>\n",
              "      <td>249114794</td>\n",
              "    </tr>\n",
              "    <tr>\n",
              "      <th>1</th>\n",
              "      <td>train_3386243561</td>\n",
              "      <td>00039780dfc94d01db8676fe789ecd05.jpg</td>\n",
              "      <td>af3f9460c2838f0f</td>\n",
              "      <td>Double Tape 3M VHB 12 mm x 4,5 m ORIGINAL / DO...</td>\n",
              "      <td>2937985045</td>\n",
              "    </tr>\n",
              "    <tr>\n",
              "      <th>2</th>\n",
              "      <td>train_2288590299</td>\n",
              "      <td>000a190fdd715a2a36faed16e2c65df7.jpg</td>\n",
              "      <td>b94cb00ed3e50f78</td>\n",
              "      <td>Maling TTS Canned Pork Luncheon Meat 397 gr</td>\n",
              "      <td>2395904891</td>\n",
              "    </tr>\n",
              "    <tr>\n",
              "      <th>3</th>\n",
              "      <td>train_2406599165</td>\n",
              "      <td>00117e4fc239b1b641ff08340b429633.jpg</td>\n",
              "      <td>8514fc58eafea283</td>\n",
              "      <td>Daster Batik Lengan pendek - Motif Acak / Camp...</td>\n",
              "      <td>4093212188</td>\n",
              "    </tr>\n",
              "    <tr>\n",
              "      <th>4</th>\n",
              "      <td>train_3369186413</td>\n",
              "      <td>00136d1cf4edede0203f32f05f660588.jpg</td>\n",
              "      <td>a6f319f924ad708c</td>\n",
              "      <td>Nescafe \\xc3\\x89clair Latte 220ml</td>\n",
              "      <td>3648931069</td>\n",
              "    </tr>\n",
              "  </tbody>\n",
              "</table>\n",
              "</div>"
            ],
            "text/plain": [
              "         posting_id  ... label_group\n",
              "0   train_129225211  ...   249114794\n",
              "1  train_3386243561  ...  2937985045\n",
              "2  train_2288590299  ...  2395904891\n",
              "3  train_2406599165  ...  4093212188\n",
              "4  train_3369186413  ...  3648931069\n",
              "\n",
              "[5 rows x 5 columns]"
            ]
          },
          "metadata": {
            "tags": []
          },
          "execution_count": 26
        }
      ]
    },
    {
      "cell_type": "code",
      "metadata": {
        "colab": {
          "base_uri": "https://localhost:8080/"
        },
        "id": "P7L5r4c83MS2",
        "outputId": "a3139b0b-0ef4-44be-de21-b59fb53254be"
      },
      "source": [
        "print('Computing text embeddings...')\n",
        "model = TfidfVectorizer(stop_words='english', binary=True, max_features=25_000)\n",
        "text_embeddings = model.fit_transform(test_gf.title).toarray()\n",
        "print('text embeddings shape',text_embeddings.shape)"
      ],
      "execution_count": null,
      "outputs": [
        {
          "output_type": "stream",
          "text": [
            "Computing text embeddings...\n",
            "text embeddings shape (34250, 24939)\n"
          ],
          "name": "stdout"
        }
      ]
    },
    {
      "cell_type": "code",
      "metadata": {
        "colab": {
          "base_uri": "https://localhost:8080/"
        },
        "id": "kpdnUll03MVh",
        "outputId": "5a38f243-abe3-43ea-9941-ceae1e40393b"
      },
      "source": [
        "preds = []\n",
        "CHUNK = 1024*4\n",
        "\n",
        "print('Finding similar titles...')\n",
        "CTS = len(test)//CHUNK\n",
        "if len(test)%CHUNK!=0: CTS += 1\n",
        "for j in range( CTS ):\n",
        "    \n",
        "    a = j*CHUNK\n",
        "    b = (j+1)*CHUNK\n",
        "    b = min(b,len(test))\n",
        "    print('chunk',a,'to',b)\n",
        "    \n",
        "    # COSINE SIMILARITY DISTANCE\n",
        "    cts = cupy.matmul( text_embeddings, text_embeddings[a:b].T).T\n",
        "    \n",
        "    for k in range(b-a):\n",
        "        IDX = cupy.where(cts[k,]>0.7)[0]\n",
        "        o = test.iloc[cupy.asnumpy(IDX)].posting_id.values\n",
        "        preds.append(o)\n",
        "        \n",
        "del model, text_embeddings\n",
        "_ = gc.collect()"
      ],
      "execution_count": null,
      "outputs": [
        {
          "output_type": "stream",
          "text": [
            "Finding similar titles...\n",
            "chunk 0 to 4096\n",
            "chunk 4096 to 8192\n",
            "chunk 8192 to 12288\n",
            "chunk 12288 to 16384\n",
            "chunk 16384 to 20480\n",
            "chunk 20480 to 24576\n",
            "chunk 24576 to 28672\n",
            "chunk 28672 to 32768\n",
            "chunk 32768 to 34250\n"
          ],
          "name": "stdout"
        }
      ]
    },
    {
      "cell_type": "code",
      "metadata": {
        "colab": {
          "base_uri": "https://localhost:8080/",
          "height": 230
        },
        "id": "flqy_IU73MYG",
        "outputId": "224a10a3-46cb-46ea-8615-21871ceb0117"
      },
      "source": [
        "test['preds'] = preds\n",
        "test.head()"
      ],
      "execution_count": null,
      "outputs": [
        {
          "output_type": "execute_result",
          "data": {
            "text/html": [
              "<div>\n",
              "<style scoped>\n",
              "    .dataframe tbody tr th:only-of-type {\n",
              "        vertical-align: middle;\n",
              "    }\n",
              "\n",
              "    .dataframe tbody tr th {\n",
              "        vertical-align: top;\n",
              "    }\n",
              "\n",
              "    .dataframe thead th {\n",
              "        text-align: right;\n",
              "    }\n",
              "</style>\n",
              "<table border=\"1\" class=\"dataframe\">\n",
              "  <thead>\n",
              "    <tr style=\"text-align: right;\">\n",
              "      <th></th>\n",
              "      <th>posting_id</th>\n",
              "      <th>image</th>\n",
              "      <th>image_phash</th>\n",
              "      <th>title</th>\n",
              "      <th>label_group</th>\n",
              "      <th>preds</th>\n",
              "    </tr>\n",
              "  </thead>\n",
              "  <tbody>\n",
              "    <tr>\n",
              "      <th>0</th>\n",
              "      <td>train_129225211</td>\n",
              "      <td>0000a68812bc7e98c42888dfb1c07da0.jpg</td>\n",
              "      <td>94974f937d4c2433</td>\n",
              "      <td>Paper Bag Victoria Secret</td>\n",
              "      <td>249114794</td>\n",
              "      <td>[train_129225211, train_2278313361]</td>\n",
              "    </tr>\n",
              "    <tr>\n",
              "      <th>1</th>\n",
              "      <td>train_3386243561</td>\n",
              "      <td>00039780dfc94d01db8676fe789ecd05.jpg</td>\n",
              "      <td>af3f9460c2838f0f</td>\n",
              "      <td>Double Tape 3M VHB 12 mm x 4,5 m ORIGINAL / DO...</td>\n",
              "      <td>2937985045</td>\n",
              "      <td>[train_3386243561]</td>\n",
              "    </tr>\n",
              "    <tr>\n",
              "      <th>2</th>\n",
              "      <td>train_2288590299</td>\n",
              "      <td>000a190fdd715a2a36faed16e2c65df7.jpg</td>\n",
              "      <td>b94cb00ed3e50f78</td>\n",
              "      <td>Maling TTS Canned Pork Luncheon Meat 397 gr</td>\n",
              "      <td>2395904891</td>\n",
              "      <td>[train_2288590299]</td>\n",
              "    </tr>\n",
              "    <tr>\n",
              "      <th>3</th>\n",
              "      <td>train_2406599165</td>\n",
              "      <td>00117e4fc239b1b641ff08340b429633.jpg</td>\n",
              "      <td>8514fc58eafea283</td>\n",
              "      <td>Daster Batik Lengan pendek - Motif Acak / Camp...</td>\n",
              "      <td>4093212188</td>\n",
              "      <td>[train_2406599165, train_3576714541, train_150...</td>\n",
              "    </tr>\n",
              "    <tr>\n",
              "      <th>4</th>\n",
              "      <td>train_3369186413</td>\n",
              "      <td>00136d1cf4edede0203f32f05f660588.jpg</td>\n",
              "      <td>a6f319f924ad708c</td>\n",
              "      <td>Nescafe \\xc3\\x89clair Latte 220ml</td>\n",
              "      <td>3648931069</td>\n",
              "      <td>[train_3369186413]</td>\n",
              "    </tr>\n",
              "  </tbody>\n",
              "</table>\n",
              "</div>"
            ],
            "text/plain": [
              "         posting_id  ...                                              preds\n",
              "0   train_129225211  ...                [train_129225211, train_2278313361]\n",
              "1  train_3386243561  ...                                 [train_3386243561]\n",
              "2  train_2288590299  ...                                 [train_2288590299]\n",
              "3  train_2406599165  ...  [train_2406599165, train_3576714541, train_150...\n",
              "4  train_3369186413  ...                                 [train_3369186413]\n",
              "\n",
              "[5 rows x 6 columns]"
            ]
          },
          "metadata": {
            "tags": []
          },
          "execution_count": 17
        }
      ]
    },
    {
      "cell_type": "code",
      "metadata": {
        "id": "82KjPv4m3Ma-"
      },
      "source": [],
      "execution_count": null,
      "outputs": []
    },
    {
      "cell_type": "code",
      "metadata": {
        "id": "EYkoAqiU3MeI"
      },
      "source": [],
      "execution_count": null,
      "outputs": []
    },
    {
      "cell_type": "markdown",
      "metadata": {
        "id": "H7C_gbhq532Z"
      },
      "source": [
        "# Final submission pipeline for kaggle submission"
      ]
    },
    {
      "cell_type": "code",
      "metadata": {
        "id": "H3DbEseh71gI"
      },
      "source": [
        "# helper functions\n",
        "class ShoppeeSiameseModel(nn.Module):\n",
        "\n",
        "    def __init__(self,base_name,out_features):\n",
        "        super(ShoppeeSiameseModel,self).__init__()\n",
        "        self.base_name = base_name\n",
        "        self.base = timm.create_model(model_name=self.base_name, pretrained=True)\n",
        "        in_features = self.base.classifier.in_features\n",
        "        # in_features = self.base.fc.in_features\n",
        "        self.base.classifier = nn.Identity()\n",
        "        self.base.global_pool = nn.Identity()\n",
        "        self.pooling = nn.AdaptiveAvgPool2d(1)\n",
        "        self.final = nn.Sequential(\n",
        "                                    nn.Dropout(0.1),\n",
        "                                    nn.Linear(in_features,1)\n",
        "                                    )\n",
        "\n",
        "    \n",
        "    def forward_once(self,x):\n",
        "        bs = x.size(0)\n",
        "        x = self.base(x)\n",
        "        x = self.pooling(x).view(bs,-1)\n",
        "        return x\n",
        "    \n",
        "    def forward(self,image_1,image_2):\n",
        "        bs = image_1.size(0)\n",
        "        feature_1 = self.forward_once(image_1)\n",
        "        feature_2 = self.forward_once(image_2)\n",
        "        feature = torch.mul(feature_1,feature_2)\n",
        "        feature = F.normalize(feature)\n",
        "        output = self.final(feature)\n",
        "\n",
        "        return output\n",
        "\n",
        "\n",
        "# extract embedding vector\n",
        "def get_feature_extractor(device,base_name,model_path):\n",
        "    model = ShoppeeSiameseModel(base_name=base_name,out_features=128)\n",
        "    model.to(device)\n",
        "    model.load_state_dict(torch.load(model_path))\n",
        "    feature_extractor = torch.nn.Sequential(*list(model.children())[:-1])\n",
        "    feature_extractor.to(device)\n",
        "    return feature_extractor"
      ],
      "execution_count": null,
      "outputs": []
    },
    {
      "cell_type": "code",
      "metadata": {
        "id": "bswsQ6wS581v"
      },
      "source": [
        "# image embedding creation\n",
        "\n",
        "def image_embeddings(feature_extractor,df,emb_dim):\n",
        "    \"\"\"\n",
        "    model: pretrained model\n",
        "    df: which df is used to calculate emb vec\n",
        "    emb_dim: the length og emb vec\n",
        "    \"\"\"\n",
        "\n",
        "    embeddings = []\n",
        "    chunck_size = 1024*4\n",
        "\n",
        "    n_chunk = len(df)//chunck_size\n",
        "\n",
        "    for i in range(n_chunk):\n",
        "        a,b = i*chunk_size, (i+1)*chunk_size\n",
        "        if b>len(df):\n",
        "            b = len(df)\n",
        "\n",
        "        dataset = ShopeeDataset(df=df[a:b],path=DATA_PATH+'train_images/',transform=get_transforms(data='valid'),is_train=True,is_aug=True)\n",
        "        dataloader = torch.utils.data.DataLoader(\n",
        "            dataset = dataset,\n",
        "            batch_size = 32,\n",
        "            drop_last = False,\n",
        "            num_workers = Config.num_workers,\n",
        "            shuffle=False,\n",
        "        )\n",
        "\n",
        "        for step,(images,labels) in enumerate(dataloader):\n",
        "            images = images.to(device)\n",
        "            labels = labels.to(device)\n",
        "\n",
        "            with torch.no_grad():\n",
        "                v = feature_extractor(images)\n",
        "                v = v.to('cpu').numpy().squeeze()\n",
        "                embeddings.extend(v)\n",
        "    \n",
        "    return embeddings\n",
        "\n",
        "    "
      ],
      "execution_count": null,
      "outputs": []
    },
    {
      "cell_type": "code",
      "metadata": {
        "id": "KcTV5xth9TpJ"
      },
      "source": [
        "#use RAPIDS KNN models for finding nearest items\n",
        "\n",
        "def knn_images(image_embeddings,test):\n",
        "    KNN = 50\n",
        "    if len(test)<=3: KNN=2\n",
        "\n",
        "    model = NearestNeighbors(n_neighbors=KNN)\n",
        "    model.fit(image_embeddings)\n",
        "\n",
        "    preds = []\n",
        "    CHUNK = 1024*4\n",
        "\n",
        "    print('..... finding similar images')\n",
        "    n_chunks = len(image_embeddings)//CHUNK\n",
        "\n",
        "    if len(image_embeddings)%CHUNK!=0: n_chunks+=1\n",
        "\n",
        "    for j in range(n_chunks):\n",
        "\n",
        "        if j>5:break\n",
        "        a,b = j*CHUNK, (j+1)*CHUNK\n",
        "        b = min(b,len(image_embeddings))\n",
        "\n",
        "        distance, indices = model.kneighbors(image_embeddings[a:b,])\n",
        "        # print(distance)\n",
        "\n",
        "\n",
        "        for k in range(b-a):\n",
        "            IDX = np.where(distance[k,]<4.5)[0]\n",
        "            IDS = indices[k,IDX]\n",
        "            o = test.iloc[IDS].posting_id.values\n",
        "            preds.append(o)\n",
        "\n",
        "    del model, image_embeddings\n",
        "    gc.collect()\n",
        "\n",
        "    return preds"
      ],
      "execution_count": null,
      "outputs": []
    },
    {
      "cell_type": "code",
      "metadata": {
        "id": "KBtWfhutnQ-n"
      },
      "source": [
        "# get neighbors using threshold searching\n",
        "\n",
        "def search_threshold(df,embeddings,KNN=50,image=True):\n",
        "\n",
        "    model = NearestNeighbors(n_neighbors=KNN)\n",
        "    model.fit(embeddings)\n",
        "    distances, indices = model.kneighbors(embeddings)\n",
        "\n",
        "    if image:\n",
        "        thresholds = list(np.arange(1.5, 6.0, 0.1))\n",
        "        scores = []\n",
        "        for threshold in thresholds:\n",
        "            predictions = []\n",
        "            for k in range(embeddings.shape[0]):\n",
        "                idx = np.where(distances[k,] < threshold)[0]\n",
        "                ids = indices[k,idx]\n",
        "                # print('anna',df['posting_id'].iloc[ids].values)\n",
        "                posting_ids = ' '.join(df['posting_id'].iloc[ids].values)\n",
        "                predictions.append(posting_ids)\n",
        "            df['pred_matches'] = predictions\n",
        "            df['f1'] = f1_score(df['matches'], df['pred_matches'])\n",
        "            score = df['f1'].mean()\n",
        "            print(f'Our f1 score for threshold {threshold} is {score}')\n",
        "            scores.append(score)\n",
        "\n",
        "        thresholds_scores = pd.DataFrame({'thresholds': thresholds, 'scores': scores})\n",
        "        max_score = thresholds_scores[thresholds_scores['scores'] == thresholds_scores['scores'].max()]\n",
        "        best_threshold = max_score['thresholds'].values[0]\n",
        "        best_score = max_score['scores'].values[0]\n",
        "        print(f'Our best score is {best_score} and has a threshold {best_threshold}')\n",
        "\n",
        "    else:\n",
        "        thresholds = list(np.arange(1, 35, 1))\n",
        "        scores = []\n",
        "        for threshold in thresholds:\n",
        "            \n",
        "            # model = TfidfVectorizer(stop_words='english', binary=True)\n",
        "            # text_embeddings = model.fit_transform(test.title).toarray()\n",
        "            predictions = []\n",
        "            CHUNK = 1024*4\n",
        "\n",
        "            print('Finding similar titles...')\n",
        "            CTS = len(test)//CHUNK\n",
        "            if len(test)%CHUNK!=0: CTS += 1\n",
        "            for j in range( CTS ):\n",
        "                \n",
        "                a = j*CHUNK\n",
        "                b = (j+1)*CHUNK\n",
        "                b = min(b,len(test))\n",
        "                print('chunk',a,'to',b)\n",
        "                \n",
        "                # COSINE SIMILARITY DISTANCE\n",
        "                cts = cupy.matmul( embeddings, embeddings[a:b].T).T\n",
        "                \n",
        "                for k in range(b-a):\n",
        "                    IDX = cupy.where(cts[k,]<threshold)[0]\n",
        "                    o = test.iloc[cupy.asnumpy(IDX)].posting_id.values\n",
        "                    predictions.append(o)\n",
        "            \n",
        "            # del model, text_embeddings\n",
        "            # _ = gc.collect()\n",
        "\n",
        "            df['pred_matches_test'] = predictions\n",
        "            df['f1'] = f1_score(df['matches'], df['pred_matches_test'])\n",
        "            score = df['f1'].mean()\n",
        "            print(f'Our f1 score for threshold {threshold} is {score}')\n",
        "            scores.append(score)\n",
        "            \n",
        "        thresholds_scores = pd.DataFrame({'thresholds': thresholds, 'scores': scores})\n",
        "        max_score = thresholds_scores[thresholds_scores['scores'] == thresholds_scores['scores'].max()]\n",
        "        best_threshold = max_score['thresholds'].values[0]\n",
        "        best_score = max_score['scores'].values[0]\n",
        "        print(f'Our best score is {best_score} and has a threshold {best_threshold}')\n",
        "\n",
        "    return best_threshold,distances,indices,model\n",
        "\n",
        "    \n",
        "def get_neighbors(df,embeddings,KNN=50, image=True):\n",
        "    model = NearestNeighbors(n_neighbors=KNN)\n",
        "    model.fit(embeddings)\n",
        "    distances, indices = model.kneighbors(embeddings)\n",
        "\n",
        "    if GET_CV:\n",
        "        if image:\n",
        "            thresholds = list(np.arange(0.2, 6.0, 0.1))\n",
        "        else:\n",
        "            thresholds = list(np.arange(31, 35, 1))\n",
        "        scores = []\n",
        "        for threshold in thresholds:\n",
        "            predictions = []\n",
        "            for k in range(embeddings.shape[0]):\n",
        "                idx = np.where(distances[k,] < threshold)[0]\n",
        "                ids = indices[k,idx]\n",
        "                posting_ids = ' '.join(df['posting_id'].iloc[ids].values)\n",
        "                predictions.append(posting_ids)\n",
        "            df['pred_matches'] = predictions\n",
        "            df['f1'] = f1_score(df['matches'], df['pred_matches'])\n",
        "            score = df['f1'].mean()\n",
        "            print(f'Our f1 score for threshold {threshold} is {score}')\n",
        "            scores.append(score)\n",
        "        thresholds_scores = pd.DataFrame({'thresholds': thresholds, 'scores': scores})\n",
        "        max_score = thresholds_scores[thresholds_scores['scores'] == thresholds_scores['scores'].max()]\n",
        "        best_threshold = max_score['thresholds'].values[0]\n",
        "        best_score = max_score['scores'].values[0]\n",
        "        print(f'Our best score is {best_score} and has a threshold {best_threshold}')\n",
        "        \n",
        "        # Use threshold\n",
        "        predictions = []\n",
        "        for k in range(embeddings.shape[0]):\n",
        "            ids = np.array([])\n",
        "            # Because we are predicting the test set that have 70K images and different label groups, confidence should be smaller\n",
        "            if image:\n",
        "                idx = np.where(distances[k,] < best_threshold)[0]\n",
        "                ids = indices[k,idx]\n",
        "            else:\n",
        "                idx = np.where(distances[k,] < 20.0)[0]\n",
        "                ids = indices[k,idx]\n",
        "                if (len(idx)>1):\n",
        "                    arr = distances[k,np.where(distances[k,]<20)[0]][1:]\n",
        "                    mean = np.mean(arr)\n",
        "                    standard_deviation = np.std(arr)\n",
        "                    if(standard_deviation>0):\n",
        "                        distance_from_mean = abs(arr - mean)\n",
        "                        max_deviations = 2\n",
        "                        not_outlier = distance_from_mean < max_deviations * standard_deviation\n",
        "                        max_dist = arr[not_outlier][-1]\n",
        "                        idx = np.where(distances[k,] <= max_dist)[0]\n",
        "                        ids = indices[k,idx]\n",
        "            posting_ids = df['posting_id'].iloc[ids].values\n",
        "            predictions.append(posting_ids)\n",
        "    \n",
        "    # Because we are predicting the test set that have 70K images and different label groups, confidence should be smaller\n",
        "    else:\n",
        "        predictions = []\n",
        "        for k in tqdm(range(embeddings.shape[0])):\n",
        "            ids = np.array([])\n",
        "            if image:\n",
        "                idx = np.where(distances[k,] < best_threshold)[0]\n",
        "                ids = indices[k,idx]\n",
        "            else:\n",
        "                idx = np.where(distances[k,] < 16.0)[0]\n",
        "                ids = indices[k,idx]\n",
        "                if (len(idx)>1):\n",
        "                    arr = distances[k,np.where(distances[k,]<16.0)[0]][1:]\n",
        "                    mean = np.mean(arr)\n",
        "                    standard_deviation = np.std(arr)\n",
        "                    if(standard_deviation>0):\n",
        "                        distance_from_mean = abs(arr - mean)\n",
        "                        max_deviations = 2\n",
        "                        not_outlier = distance_from_mean < max_deviations * standard_deviation\n",
        "                        max_dist = arr[not_outlier][-1]\n",
        "                        idx = np.where(distances[k,] <= max_dist)[0]\n",
        "                        ids = indices[k,idx]\n",
        "            \n",
        "            posting_ids = df['posting_id'].iloc[ids].values\n",
        "            predictions.append(posting_ids)\n",
        "        \n",
        "    del model, distances, indices\n",
        "    gc.collect()\n",
        "    return df, predictions\n",
        "\n",
        "def get_neighbor_2(df,embeddings,image=True):\n",
        "    if GET_CV:\n",
        "        if image:\n",
        "            thresholds = list(np.arange(0.01, 1.0, 0.01))\n",
        "        else:\n",
        "            thresholds = list(np.arange(31, 35, 1))\n",
        "        scores = []\n",
        "        indices = np.array(df.index.values)\n",
        "        # distances = np.clip(spatial.distance.cdist(embeddings,embeddings,'cosine'),0,1)\n",
        "        CHUNK = 256\n",
        "        CTS = len(df)//CHUNK\n",
        "        if len(df)%CHUNK!=0:\n",
        "            CTS+=1\n",
        "\n",
        "        x = cupy.array(embeddings)\n",
        "\n",
        "        for threshold in thresholds:\n",
        "            predictions = []\n",
        "            \n",
        "            for j in range( CTS ):\n",
        "                # if k>=5:break\n",
        "                # if k%500==0:print(k,end=' ')\n",
        "                a, b = j*CHUNK, (j+1)*CHUNK\n",
        "                b = min(b,len(df))\n",
        "                print('chunk:{} to {}'.format(a,b))\n",
        "                # distance = np.clip(spatial.distance.cdist([embeddings[k]],embeddings,'cosine'),0,1)[0]\n",
        "                \n",
        "                y = cupy.array(embeddings[a:b]).T\n",
        "                distance = cupy.matmul(x,y).T\n",
        "                # print(distance)\n",
        "                idx = cupy.where(distance >0.75)[0]\n",
        "\n",
        "                for k in range(b-a):\n",
        "                    IDX = cupy.where(distance[k,]>0.75)[0]\n",
        "                    o = df.iloc[cupy.asnumpy(IDX)].posting_id.values\n",
        "                    predictions.append(o)\n",
        "                    # del IDX\n",
        "                    cupy._default_memory_pool.free_all_blocks()\n",
        "                    # gc.collect()\n",
        "                del y,distance\n",
        "                gc.collect()\n",
        "                # print(idx)\n",
        "\n",
        "                # ids = indices[idx]\n",
        "                # posting_ids=  df.iloc[cupy.asnumpy(idx)].posting_id.values\n",
        "                # # print(ids)\n",
        "                # if len([ids])==1:\n",
        "                #     posting_ids = df['posting_id'].iloc[ids]\n",
        "                # else:\n",
        "                #     posting_ids = ' '.join(df['posting_id'].iloc[ids].values)\n",
        "                # predictions.append(posting_ids)\n",
        "            df['pred_matches'] = predictions\n",
        "            df['f1'] = f1_score(df['matches'], df['pred_matches'])\n",
        "            score = df['f1'].mean()\n",
        "            print(f'Our f1 score for threshold {threshold} is {score}')\n",
        "            scores.append(score)\n",
        "        thresholds_scores = pd.DataFrame({'thresholds': thresholds, 'scores': scores})\n",
        "        max_score = thresholds_scores[thresholds_scores['scores'] == thresholds_scores['scores'].max()]\n",
        "        best_threshold = max_score['thresholds'].values[0]\n",
        "        best_score = max_score['scores'].values[0]\n",
        "        print(f'Our best score is {best_score} and has a threshold {best_threshold}')\n",
        "    \n",
        "\n",
        "# for f1\n",
        "def f1_score(y_true, y_pred):\n",
        "    y_true = y_true.apply(lambda x: set(x.split()))\n",
        "    y_pred = y_pred.apply(lambda x: set(x.split()))\n",
        "    intersection = np.array([len(x[0] & x[1]) for x in zip(y_true, y_pred)])\n",
        "    len_y_pred = y_pred.apply(lambda x: len(x)).values\n",
        "    len_y_true = y_true.apply(lambda x: len(x)).values\n",
        "    f1 = 2 * intersection / (len_y_pred + len_y_true)\n",
        "    return f1"
      ],
      "execution_count": null,
      "outputs": []
    },
    {
      "cell_type": "code",
      "metadata": {
        "colab": {
          "base_uri": "https://localhost:8080/",
          "height": 196
        },
        "id": "mIt1oQezADGG",
        "outputId": "3b3adde4-046d-4282-d220-c623b54b0648"
      },
      "source": [
        "test = df\n",
        "test.head()"
      ],
      "execution_count": null,
      "outputs": [
        {
          "output_type": "execute_result",
          "data": {
            "text/html": [
              "<div>\n",
              "<style scoped>\n",
              "    .dataframe tbody tr th:only-of-type {\n",
              "        vertical-align: middle;\n",
              "    }\n",
              "\n",
              "    .dataframe tbody tr th {\n",
              "        vertical-align: top;\n",
              "    }\n",
              "\n",
              "    .dataframe thead th {\n",
              "        text-align: right;\n",
              "    }\n",
              "</style>\n",
              "<table border=\"1\" class=\"dataframe\">\n",
              "  <thead>\n",
              "    <tr style=\"text-align: right;\">\n",
              "      <th></th>\n",
              "      <th>posting_id</th>\n",
              "      <th>image</th>\n",
              "      <th>image_phash</th>\n",
              "      <th>title</th>\n",
              "      <th>label_group</th>\n",
              "    </tr>\n",
              "  </thead>\n",
              "  <tbody>\n",
              "    <tr>\n",
              "      <th>0</th>\n",
              "      <td>train_129225211</td>\n",
              "      <td>0000a68812bc7e98c42888dfb1c07da0.jpg</td>\n",
              "      <td>94974f937d4c2433</td>\n",
              "      <td>Paper Bag Victoria Secret</td>\n",
              "      <td>249114794</td>\n",
              "    </tr>\n",
              "    <tr>\n",
              "      <th>1</th>\n",
              "      <td>train_3386243561</td>\n",
              "      <td>00039780dfc94d01db8676fe789ecd05.jpg</td>\n",
              "      <td>af3f9460c2838f0f</td>\n",
              "      <td>Double Tape 3M VHB 12 mm x 4,5 m ORIGINAL / DO...</td>\n",
              "      <td>2937985045</td>\n",
              "    </tr>\n",
              "    <tr>\n",
              "      <th>2</th>\n",
              "      <td>train_2288590299</td>\n",
              "      <td>000a190fdd715a2a36faed16e2c65df7.jpg</td>\n",
              "      <td>b94cb00ed3e50f78</td>\n",
              "      <td>Maling TTS Canned Pork Luncheon Meat 397 gr</td>\n",
              "      <td>2395904891</td>\n",
              "    </tr>\n",
              "    <tr>\n",
              "      <th>3</th>\n",
              "      <td>train_2406599165</td>\n",
              "      <td>00117e4fc239b1b641ff08340b429633.jpg</td>\n",
              "      <td>8514fc58eafea283</td>\n",
              "      <td>Daster Batik Lengan pendek - Motif Acak / Camp...</td>\n",
              "      <td>4093212188</td>\n",
              "    </tr>\n",
              "    <tr>\n",
              "      <th>4</th>\n",
              "      <td>train_3369186413</td>\n",
              "      <td>00136d1cf4edede0203f32f05f660588.jpg</td>\n",
              "      <td>a6f319f924ad708c</td>\n",
              "      <td>Nescafe \\xc3\\x89clair Latte 220ml</td>\n",
              "      <td>3648931069</td>\n",
              "    </tr>\n",
              "  </tbody>\n",
              "</table>\n",
              "</div>"
            ],
            "text/plain": [
              "         posting_id  ... label_group\n",
              "0   train_129225211  ...   249114794\n",
              "1  train_3386243561  ...  2937985045\n",
              "2  train_2288590299  ...  2395904891\n",
              "3  train_2406599165  ...  4093212188\n",
              "4  train_3369186413  ...  3648931069\n",
              "\n",
              "[5 rows x 5 columns]"
            ]
          },
          "metadata": {
            "tags": []
          },
          "execution_count": 23
        }
      ]
    },
    {
      "cell_type": "code",
      "metadata": {
        "id": "fg35-n5mpT-0"
      },
      "source": [
        "tmp = test.groupby(['label_group'])['posting_id'].unique().to_dict()\n",
        "test['matches'] = test['label_group'].map(tmp)\n",
        "test['matches'] = test['matches'].apply(lambda x: ' '.join(x))"
      ],
      "execution_count": null,
      "outputs": []
    },
    {
      "cell_type": "code",
      "metadata": {
        "id": "ixV8b7Naj6yF"
      },
      "source": [
        "dataset = ShopeeDataset(df=df,path=DATA_PATH+'train_images/',transform=get_transforms(data='valid'),is_train=True,is_aug=True)\n",
        "dataloader = torch.utils.data.DataLoader(\n",
        "    dataset = dataset,\n",
        "    batch_size = 32,\n",
        "    drop_last = False,\n",
        "    num_workers = Config.num_workers,\n",
        "    shuffle=False,\n",
        ")"
      ],
      "execution_count": null,
      "outputs": []
    },
    {
      "cell_type": "code",
      "metadata": {
        "colab": {
          "base_uri": "https://localhost:8080/"
        },
        "id": "5k2IaE7vCH_t",
        "outputId": "70eb5571-b1de-4c97-bd04-614cf3390f4c"
      },
      "source": [
        "model_names = glob.glob(DATA_PATH+'*.pth')\n",
        "model_names"
      ],
      "execution_count": null,
      "outputs": [
        {
          "output_type": "execute_result",
          "data": {
            "text/plain": [
              "['/content/gdrive/MyDrive/shopee/efficientnet_b3_size_512_fold_2_0.19864678126325566.pth',\n",
              " '/content/gdrive/MyDrive/shopee/efficientnet_b3_size_512_fold_3_0.18886887905865352.pth',\n",
              " '/content/gdrive/MyDrive/shopee/efficientnet_b3_size_512_fold_4_0.19710620647427257.pth',\n",
              " '/content/gdrive/MyDrive/shopee/efficientnet_b3_size_512_fold_0_0.19649354238704467.pth',\n",
              " '/content/gdrive/MyDrive/shopee/efficientnet_b3_size_512_fold_1_0.17506829626027126.pth']"
            ]
          },
          "metadata": {
            "tags": []
          },
          "execution_count": 26
        }
      ]
    },
    {
      "cell_type": "code",
      "metadata": {
        "id": "JxQheZXcCgsq"
      },
      "source": [
        "device = torch.device('cuda')\n",
        "feature_extractor = get_feature_extractor(device,base_name='efficientnet_b3',model_path=model_names[4])\n",
        "feature_extractor.to(device)"
      ],
      "execution_count": null,
      "outputs": []
    },
    {
      "cell_type": "code",
      "metadata": {
        "colab": {
          "base_uri": "https://localhost:8080/",
          "height": 99,
          "referenced_widgets": [
            "d2471c81ba52420c90d97cfc46f1bf75",
            "50058cb62881475494d32cb1a2ee77b9",
            "eae01c6377784467b4fae4b7e3f54b7f",
            "836197224da841eca9fa25f05a96ed4e",
            "4afb976c814946949ec5f04f48c8c67b",
            "066d2960638d4c1b8708632bdc004dc3",
            "f20c107df2f94ca9a3339f0c54fabbcc",
            "1c899f0b8ef7458f84f514b36a329f54",
            "d30caabf2a8d478da0d5cf31f1027ee9",
            "20c71ccc90bd42cc84143083b795efbe",
            "a58e29cc08194fecbbce9b3e30c14edd"
          ]
        },
        "id": "R-0VXjLQCgvt",
        "outputId": "089677a2-70f0-4da4-e84e-d5a8a3d03998"
      },
      "source": [
        "%%time\n",
        "emb_dim = 1536\n",
        "embeddings = []\n",
        "tbar = tqdm(dataloader, desc='Calculating embedding')\n",
        "with torch.no_grad(): # this is important\n",
        "    for step, (images,labels) in enumerate(tbar):\n",
        "        # if step>5:break\n",
        "        images = images.to(device)\n",
        "        labels = labels.to(device)\n",
        "\n",
        "        v = feature_extractor(images)\n",
        "        v = v.to('cpu').numpy().squeeze()\n",
        "        embeddings.extend(v)\n",
        "embeddings = np.squeeze(embeddings)\n",
        "# with open(DATA_PATH+'efficientnet_b4_size_512_fold_1.pkl','wb') as handle:\n",
        "#     pickle.dump(embeddings,handle)\n",
        "# handle.close()"
      ],
      "execution_count": null,
      "outputs": [
        {
          "output_type": "display_data",
          "data": {
            "application/vnd.jupyter.widget-view+json": {
              "model_id": "d2471c81ba52420c90d97cfc46f1bf75",
              "version_minor": 0,
              "version_major": 2
            },
            "text/plain": [
              "HBox(children=(HTML(value='Calculating embedding'), FloatProgress(value=0.0, max=1071.0), HTML(value='')))"
            ]
          },
          "metadata": {
            "tags": []
          }
        },
        {
          "output_type": "stream",
          "text": [
            "\n",
            "CPU times: user 3min 6s, sys: 2min 20s, total: 5min 27s\n",
            "Wall time: 45min 57s\n"
          ],
          "name": "stdout"
        }
      ]
    },
    {
      "cell_type": "code",
      "metadata": {
        "id": "OSIOiZK2Ccl8"
      },
      "source": [],
      "execution_count": null,
      "outputs": []
    },
    {
      "cell_type": "code",
      "metadata": {
        "id": "gLZZdR-ij61U"
      },
      "source": [
        "with open(DATA_PATH+'efficientnet_b4_size_512_fold_0.pkl','rb') as handle:\n",
        "    embeddings_0 = pickle.load(handle)\n",
        "handle.close()\n",
        "\n",
        "with open(DATA_PATH+'efficientnet_b4_size_512_fold_1.pkl','rb') as handle:\n",
        "    embeddings_1 = pickle.load(handle)\n",
        "handle.close()\n",
        "\n",
        "with open(DATA_PATH+'efficientnet_b4_size_512_fold_2.pkl','rb') as handle:\n",
        "    embeddings_2 = pickle.load(handle)\n",
        "handle.close()\n",
        "\n",
        "with open(DATA_PATH+'efficientnet_b4_size_512_fold_3.pkl','rb') as handle:\n",
        "    embeddings_3 = pickle.load(handle)\n",
        "handle.close()\n",
        "\n",
        "with open(DATA_PATH+'efficientnet_b4_size_512_fold_4.pkl','rb') as handle:\n",
        "    embeddings_4 = pickle.load(handle)\n",
        "handle.close()"
      ],
      "execution_count": null,
      "outputs": []
    },
    {
      "cell_type": "code",
      "metadata": {
        "id": "5uiAKDpbFkOs"
      },
      "source": [
        "embeddings_image = embeddings_0*0.2+embeddings_1*0.2+embeddings_2*0.2+embeddings_3*0.2+embeddings_4*0.2"
      ],
      "execution_count": null,
      "outputs": []
    },
    {
      "cell_type": "code",
      "metadata": {
        "colab": {
          "base_uri": "https://localhost:8080/"
        },
        "id": "HT-TtgpCkAaD",
        "outputId": "077fbc3e-749b-4571-c0d4-cba9ed71e3ac"
      },
      "source": [
        "embeddings_image.shape"
      ],
      "execution_count": null,
      "outputs": [
        {
          "output_type": "execute_result",
          "data": {
            "text/plain": [
              "(34250, 1536)"
            ]
          },
          "metadata": {
            "tags": []
          },
          "execution_count": 29
        }
      ]
    },
    {
      "cell_type": "code",
      "metadata": {
        "id": "VXGI1dCiksPj"
      },
      "source": [
        "# GET_CV=True\n",
        "# test, image_predictions = get_neighbors(test, embeddings,KNN=25, image = True)"
      ],
      "execution_count": null,
      "outputs": []
    },
    {
      "cell_type": "code",
      "metadata": {
        "id": "i0BepUX9vDrK"
      },
      "source": [
        "best_thred_image,distances,indices,model_image_emb = search_threshold(test, embeddings_image,KNN=25,image=True)\n",
        "print('the best thred for image prediction is:{}'.format(best_thred_image))"
      ],
      "execution_count": null,
      "outputs": []
    },
    {
      "cell_type": "code",
      "metadata": {
        "id": "q_QByPf4k5gu"
      },
      "source": [
        "# Use threshold\n",
        "predictions = []\n",
        "image=True\n",
        "for k in range(embeddings_image.shape[0]):\n",
        "    ids = np.array([])\n",
        "    # Because we are predicting the test set that have 70K images and different label groups, confidence should be smaller\n",
        "    if image:\n",
        "        idx = np.where(distances[k,] < best_thred_image)[0]\n",
        "        ids = indices[k,idx]\n",
        "    else:\n",
        "        idx = np.where(distances[k,] < 20.0)[0]\n",
        "        ids = indices[k,idx]\n",
        "        if (len(idx)>1):\n",
        "            arr = distances[k,np.where(distances[k,]<20)[0]][1:]\n",
        "            mean = np.mean(arr)\n",
        "            standard_deviation = np.std(arr)\n",
        "            if(standard_deviation>0):\n",
        "                distance_from_mean = abs(arr - mean)\n",
        "                max_deviations = 2\n",
        "                not_outlier = distance_from_mean < max_deviations * standard_deviation\n",
        "                max_dist = arr[not_outlier][-1]\n",
        "                idx = np.where(distances[k,] <= max_dist)[0]\n",
        "                ids = indices[k,idx]\n",
        "    posting_ids = df['posting_id'].iloc[ids].values\n",
        "    predictions.append(posting_ids)\n",
        "\n",
        "test['pred2'] = predictions"
      ],
      "execution_count": null,
      "outputs": []
    },
    {
      "cell_type": "code",
      "metadata": {
        "id": "Mo4fBMIvkhEi"
      },
      "source": [
        "distances, indices = model_image_emb.kneighbors(embeddings_image[1:5,])"
      ],
      "execution_count": null,
      "outputs": []
    },
    {
      "cell_type": "code",
      "metadata": {
        "colab": {
          "base_uri": "https://localhost:8080/",
          "height": 137
        },
        "id": "B2ydC_dVsFt8",
        "outputId": "c405f8c7-15ad-40ca-e796-5151a7762d28"
      },
      "source": [
        "test_df = pd.read_csv(DATA_PATH+'test.csv')\n",
        "test_df"
      ],
      "execution_count": null,
      "outputs": [
        {
          "output_type": "execute_result",
          "data": {
            "text/html": [
              "<div>\n",
              "<style scoped>\n",
              "    .dataframe tbody tr th:only-of-type {\n",
              "        vertical-align: middle;\n",
              "    }\n",
              "\n",
              "    .dataframe tbody tr th {\n",
              "        vertical-align: top;\n",
              "    }\n",
              "\n",
              "    .dataframe thead th {\n",
              "        text-align: right;\n",
              "    }\n",
              "</style>\n",
              "<table border=\"1\" class=\"dataframe\">\n",
              "  <thead>\n",
              "    <tr style=\"text-align: right;\">\n",
              "      <th></th>\n",
              "      <th>posting_id</th>\n",
              "      <th>image</th>\n",
              "      <th>image_phash</th>\n",
              "      <th>title</th>\n",
              "    </tr>\n",
              "  </thead>\n",
              "  <tbody>\n",
              "    <tr>\n",
              "      <th>0</th>\n",
              "      <td>test_2255846744</td>\n",
              "      <td>0006c8e5462ae52167402bac1c2e916e.jpg</td>\n",
              "      <td>ecc292392dc7687a</td>\n",
              "      <td>Edufuntoys - CHARACTER PHONE ada lampu dan mus...</td>\n",
              "    </tr>\n",
              "    <tr>\n",
              "      <th>1</th>\n",
              "      <td>test_3588702337</td>\n",
              "      <td>0007585c4d0f932859339129f709bfdc.jpg</td>\n",
              "      <td>e9968f60d2699e2c</td>\n",
              "      <td>(Beli 1 Free Spatula) Masker Komedo | Blackhea...</td>\n",
              "    </tr>\n",
              "    <tr>\n",
              "      <th>2</th>\n",
              "      <td>test_4015706929</td>\n",
              "      <td>0008377d3662e83ef44e1881af38b879.jpg</td>\n",
              "      <td>ba81c17e3581cabe</td>\n",
              "      <td>READY Lemonilo Mie instant sehat kuah dan goreng</td>\n",
              "    </tr>\n",
              "  </tbody>\n",
              "</table>\n",
              "</div>"
            ],
            "text/plain": [
              "        posting_id  ...                                              title\n",
              "0  test_2255846744  ...  Edufuntoys - CHARACTER PHONE ada lampu dan mus...\n",
              "1  test_3588702337  ...  (Beli 1 Free Spatula) Masker Komedo | Blackhea...\n",
              "2  test_4015706929  ...   READY Lemonilo Mie instant sehat kuah dan goreng\n",
              "\n",
              "[3 rows x 4 columns]"
            ]
          },
          "metadata": {
            "tags": []
          },
          "execution_count": 42
        }
      ]
    },
    {
      "cell_type": "markdown",
      "metadata": {
        "id": "JJxbwdjdtEHO"
      },
      "source": [
        "### use text embedding"
      ]
    },
    {
      "cell_type": "code",
      "metadata": {
        "colab": {
          "base_uri": "https://localhost:8080/",
          "height": 213
        },
        "id": "Bmcga_PtsFxm",
        "outputId": "028a2710-72ac-4a04-ba2c-15b5d7a171a6"
      },
      "source": [
        "train_gf = cudf.read_csv(DATA_PATH+'train.csv')\n",
        "print('train shape is', train_gf.shape )\n",
        "train_gf.head()"
      ],
      "execution_count": null,
      "outputs": [
        {
          "output_type": "stream",
          "text": [
            "train shape is (34250, 5)\n"
          ],
          "name": "stdout"
        },
        {
          "output_type": "execute_result",
          "data": {
            "text/html": [
              "<div>\n",
              "<style scoped>\n",
              "    .dataframe tbody tr th:only-of-type {\n",
              "        vertical-align: middle;\n",
              "    }\n",
              "\n",
              "    .dataframe tbody tr th {\n",
              "        vertical-align: top;\n",
              "    }\n",
              "\n",
              "    .dataframe thead th {\n",
              "        text-align: right;\n",
              "    }\n",
              "</style>\n",
              "<table border=\"1\" class=\"dataframe\">\n",
              "  <thead>\n",
              "    <tr style=\"text-align: right;\">\n",
              "      <th></th>\n",
              "      <th>posting_id</th>\n",
              "      <th>image</th>\n",
              "      <th>image_phash</th>\n",
              "      <th>title</th>\n",
              "      <th>label_group</th>\n",
              "    </tr>\n",
              "  </thead>\n",
              "  <tbody>\n",
              "    <tr>\n",
              "      <th>0</th>\n",
              "      <td>train_129225211</td>\n",
              "      <td>0000a68812bc7e98c42888dfb1c07da0.jpg</td>\n",
              "      <td>94974f937d4c2433</td>\n",
              "      <td>Paper Bag Victoria Secret</td>\n",
              "      <td>249114794</td>\n",
              "    </tr>\n",
              "    <tr>\n",
              "      <th>1</th>\n",
              "      <td>train_3386243561</td>\n",
              "      <td>00039780dfc94d01db8676fe789ecd05.jpg</td>\n",
              "      <td>af3f9460c2838f0f</td>\n",
              "      <td>Double Tape 3M VHB 12 mm x 4,5 m ORIGINAL / DO...</td>\n",
              "      <td>2937985045</td>\n",
              "    </tr>\n",
              "    <tr>\n",
              "      <th>2</th>\n",
              "      <td>train_2288590299</td>\n",
              "      <td>000a190fdd715a2a36faed16e2c65df7.jpg</td>\n",
              "      <td>b94cb00ed3e50f78</td>\n",
              "      <td>Maling TTS Canned Pork Luncheon Meat 397 gr</td>\n",
              "      <td>2395904891</td>\n",
              "    </tr>\n",
              "    <tr>\n",
              "      <th>3</th>\n",
              "      <td>train_2406599165</td>\n",
              "      <td>00117e4fc239b1b641ff08340b429633.jpg</td>\n",
              "      <td>8514fc58eafea283</td>\n",
              "      <td>Daster Batik Lengan pendek - Motif Acak / Camp...</td>\n",
              "      <td>4093212188</td>\n",
              "    </tr>\n",
              "    <tr>\n",
              "      <th>4</th>\n",
              "      <td>train_3369186413</td>\n",
              "      <td>00136d1cf4edede0203f32f05f660588.jpg</td>\n",
              "      <td>a6f319f924ad708c</td>\n",
              "      <td>Nescafe \\xc3\\x89clair Latte 220ml</td>\n",
              "      <td>3648931069</td>\n",
              "    </tr>\n",
              "  </tbody>\n",
              "</table>\n",
              "</div>"
            ],
            "text/plain": [
              "         posting_id  ... label_group\n",
              "0   train_129225211  ...   249114794\n",
              "1  train_3386243561  ...  2937985045\n",
              "2  train_2288590299  ...  2395904891\n",
              "3  train_2406599165  ...  4093212188\n",
              "4  train_3369186413  ...  3648931069\n",
              "\n",
              "[5 rows x 5 columns]"
            ]
          },
          "metadata": {
            "tags": []
          },
          "execution_count": 40
        }
      ]
    },
    {
      "cell_type": "code",
      "metadata": {
        "colab": {
          "base_uri": "https://localhost:8080/"
        },
        "id": "3YCztDdbtobV",
        "outputId": "ae6b0d21-9ce0-4880-85fe-83b1bc0a3bc9"
      },
      "source": [
        "model_text = TfidfVectorizer(stop_words='english', binary=True,max_features=25_000)\n",
        "text_embeddings = model_text.fit_transform(train_gf.title).toarray()\n",
        "print('text embeddings shape is',text_embeddings.shape)"
      ],
      "execution_count": null,
      "outputs": [
        {
          "output_type": "stream",
          "text": [
            "text embeddings shape is (34250, 24939)\n"
          ],
          "name": "stdout"
        }
      ]
    },
    {
      "cell_type": "code",
      "metadata": {
        "id": "g0eVYFgfzkg0"
      },
      "source": [
        "# best_thred_test = search_threshold(train_gf, text_embeddings,KNN=25,image=False)\n",
        "# print('the best thred for image prediction is:{}'.format(best_thred_test))"
      ],
      "execution_count": null,
      "outputs": []
    },
    {
      "cell_type": "code",
      "metadata": {
        "colab": {
          "base_uri": "https://localhost:8080/"
        },
        "id": "bo-v2RBht6gn",
        "outputId": "d91b1bb8-d833-4d8c-8c41-af85de317761"
      },
      "source": [
        "preds = []\n",
        "CHUNK = 1024*4\n",
        "\n",
        "print('Finding similar titles...')\n",
        "CTS = len(test)//CHUNK\n",
        "if len(test)%CHUNK!=0: CTS += 1\n",
        "for j in range( CTS ):\n",
        "    \n",
        "    a = j*CHUNK\n",
        "    b = (j+1)*CHUNK\n",
        "    b = min(b,len(test))\n",
        "    print('chunk',a,'to',b)\n",
        "    \n",
        "    # COSINE SIMILARITY DISTANCE\n",
        "    cts = cupy.matmul( text_embeddings, text_embeddings[a:b].T).T\n",
        "    \n",
        "    for k in range(b-a):\n",
        "        IDX = cupy.where(cts[k,]>0.7)[0]\n",
        "        o = test.iloc[cupy.asnumpy(IDX)].posting_id.values\n",
        "        preds.append(o)\n",
        "        \n",
        "del model_text, text_embeddings\n",
        "_ = gc.collect()\n",
        "test['pred3'] = preds"
      ],
      "execution_count": null,
      "outputs": [
        {
          "output_type": "stream",
          "text": [
            "Finding similar titles...\n",
            "chunk 0 to 4096\n",
            "chunk 4096 to 8192\n",
            "chunk 8192 to 12288\n",
            "chunk 12288 to 16384\n",
            "chunk 16384 to 20480\n",
            "chunk 20480 to 24576\n",
            "chunk 24576 to 28672\n",
            "chunk 28672 to 32768\n",
            "chunk 32768 to 34250\n"
          ],
          "name": "stdout"
        }
      ]
    },
    {
      "cell_type": "code",
      "metadata": {
        "colab": {
          "base_uri": "https://localhost:8080/",
          "height": 484
        },
        "id": "jD45MD3-toeA",
        "outputId": "a05f8aae-3dd9-4b97-84b8-a187b177a78f"
      },
      "source": [
        "tmp = test.groupby('image_phash').posting_id.agg('unique').to_dict()\n",
        "test['pred4'] = test.image_phash.map(tmp)\n",
        "test.head()"
      ],
      "execution_count": null,
      "outputs": [
        {
          "output_type": "execute_result",
          "data": {
            "text/html": [
              "<div>\n",
              "<style scoped>\n",
              "    .dataframe tbody tr th:only-of-type {\n",
              "        vertical-align: middle;\n",
              "    }\n",
              "\n",
              "    .dataframe tbody tr th {\n",
              "        vertical-align: top;\n",
              "    }\n",
              "\n",
              "    .dataframe thead th {\n",
              "        text-align: right;\n",
              "    }\n",
              "</style>\n",
              "<table border=\"1\" class=\"dataframe\">\n",
              "  <thead>\n",
              "    <tr style=\"text-align: right;\">\n",
              "      <th></th>\n",
              "      <th>posting_id</th>\n",
              "      <th>image</th>\n",
              "      <th>image_phash</th>\n",
              "      <th>title</th>\n",
              "      <th>label_group</th>\n",
              "      <th>matches</th>\n",
              "      <th>pred_matches</th>\n",
              "      <th>f1</th>\n",
              "      <th>pred2</th>\n",
              "      <th>pred3</th>\n",
              "      <th>pred4</th>\n",
              "    </tr>\n",
              "  </thead>\n",
              "  <tbody>\n",
              "    <tr>\n",
              "      <th>0</th>\n",
              "      <td>train_129225211</td>\n",
              "      <td>0000a68812bc7e98c42888dfb1c07da0.jpg</td>\n",
              "      <td>94974f937d4c2433</td>\n",
              "      <td>Paper Bag Victoria Secret</td>\n",
              "      <td>249114794</td>\n",
              "      <td>train_129225211 train_2278313361</td>\n",
              "      <td>train_129225211 train_523363809 train_29257018...</td>\n",
              "      <td>0.148148</td>\n",
              "      <td>[train_129225211]</td>\n",
              "      <td>[train_129225211, train_2278313361]</td>\n",
              "      <td>[train_129225211]</td>\n",
              "    </tr>\n",
              "    <tr>\n",
              "      <th>1</th>\n",
              "      <td>train_3386243561</td>\n",
              "      <td>00039780dfc94d01db8676fe789ecd05.jpg</td>\n",
              "      <td>af3f9460c2838f0f</td>\n",
              "      <td>Double Tape 3M VHB 12 mm x 4,5 m ORIGINAL / DO...</td>\n",
              "      <td>2937985045</td>\n",
              "      <td>train_3386243561 train_3423213080</td>\n",
              "      <td>train_3386243561 train_3423213080 train_212059...</td>\n",
              "      <td>0.148148</td>\n",
              "      <td>[train_3386243561, train_3423213080]</td>\n",
              "      <td>[train_3386243561]</td>\n",
              "      <td>[train_3386243561]</td>\n",
              "    </tr>\n",
              "    <tr>\n",
              "      <th>2</th>\n",
              "      <td>train_2288590299</td>\n",
              "      <td>000a190fdd715a2a36faed16e2c65df7.jpg</td>\n",
              "      <td>b94cb00ed3e50f78</td>\n",
              "      <td>Maling TTS Canned Pork Luncheon Meat 397 gr</td>\n",
              "      <td>2395904891</td>\n",
              "      <td>train_2288590299 train_3803689425</td>\n",
              "      <td>train_2288590299 train_1557977654 train_409800...</td>\n",
              "      <td>0.074074</td>\n",
              "      <td>[train_2288590299]</td>\n",
              "      <td>[train_2288590299]</td>\n",
              "      <td>[train_2288590299]</td>\n",
              "    </tr>\n",
              "    <tr>\n",
              "      <th>3</th>\n",
              "      <td>train_2406599165</td>\n",
              "      <td>00117e4fc239b1b641ff08340b429633.jpg</td>\n",
              "      <td>8514fc58eafea283</td>\n",
              "      <td>Daster Batik Lengan pendek - Motif Acak / Camp...</td>\n",
              "      <td>4093212188</td>\n",
              "      <td>train_2406599165 train_3342059966</td>\n",
              "      <td>train_2406599165 train_3230106292 train_224249...</td>\n",
              "      <td>0.074074</td>\n",
              "      <td>[train_2406599165]</td>\n",
              "      <td>[train_2406599165, train_3576714541, train_150...</td>\n",
              "      <td>[train_2406599165]</td>\n",
              "    </tr>\n",
              "    <tr>\n",
              "      <th>4</th>\n",
              "      <td>train_3369186413</td>\n",
              "      <td>00136d1cf4edede0203f32f05f660588.jpg</td>\n",
              "      <td>a6f319f924ad708c</td>\n",
              "      <td>Nescafe \\xc3\\x89clair Latte 220ml</td>\n",
              "      <td>3648931069</td>\n",
              "      <td>train_3369186413 train_921438619</td>\n",
              "      <td>train_3369186413 train_921438619 train_1440816...</td>\n",
              "      <td>0.148148</td>\n",
              "      <td>[train_3369186413, train_921438619]</td>\n",
              "      <td>[train_3369186413]</td>\n",
              "      <td>[train_3369186413]</td>\n",
              "    </tr>\n",
              "  </tbody>\n",
              "</table>\n",
              "</div>"
            ],
            "text/plain": [
              "         posting_id  ...               pred4\n",
              "0   train_129225211  ...   [train_129225211]\n",
              "1  train_3386243561  ...  [train_3386243561]\n",
              "2  train_2288590299  ...  [train_2288590299]\n",
              "3  train_2406599165  ...  [train_2406599165]\n",
              "4  train_3369186413  ...  [train_3369186413]\n",
              "\n",
              "[5 rows x 11 columns]"
            ]
          },
          "metadata": {
            "tags": []
          },
          "execution_count": 46
        }
      ]
    },
    {
      "cell_type": "code",
      "metadata": {
        "id": "fxqB8GyToIfp"
      },
      "source": [
        "def combine_for_sub(row):\n",
        "    x = np.concatenate([row.pred2,row.pred3, row.pred4])\n",
        "    return ' '.join( np.unique(x) )\n",
        "\n",
        "def combine_for_cv(row):\n",
        "    x = np.concatenate([row.pred2,row.pred3, row.pred4])\n",
        "    return np.unique(x)\n",
        "\n",
        "def getMetric(col):\n",
        "    def f1score(row):\n",
        "        n = len( np.intersect1d(row.target,row[col]) )\n",
        "        return 2*n / (len(row.target)+len(row[col]))\n",
        "    return f1score"
      ],
      "execution_count": null,
      "outputs": []
    },
    {
      "cell_type": "code",
      "metadata": {
        "colab": {
          "base_uri": "https://localhost:8080/"
        },
        "id": "r0H1aEvdoIi6",
        "outputId": "c168305e-36ae-4f2d-e649-970e9a3737ab"
      },
      "source": [
        "\n",
        "tmp = test.groupby('label_group').posting_id.agg('unique').to_dict()\n",
        "test['target'] = test.label_group.map(tmp)\n",
        "test['oof'] = test.apply(combine_for_cv,axis=1)\n",
        "test['f1'] = test.apply(getMetric('oof'),axis=1)\n",
        "print('CV Score =', test.f1.mean() )\n",
        "\n",
        "test['matches'] = test.apply(combine_for_sub,axis=1)"
      ],
      "execution_count": null,
      "outputs": [
        {
          "output_type": "stream",
          "text": [
            "CV Score = 0.73841337669991\n"
          ],
          "name": "stdout"
        }
      ]
    },
    {
      "cell_type": "code",
      "metadata": {
        "colab": {
          "base_uri": "https://localhost:8080/",
          "height": 196
        },
        "id": "YxekWRQ2oIl3",
        "outputId": "89625e1f-9595-44a6-c810-5a9a071823c5"
      },
      "source": [
        "test[['posting_id','matches']].to_csv('submission.csv',index=False)\n",
        "sub = pd.read_csv('submission.csv')\n",
        "sub.head()"
      ],
      "execution_count": null,
      "outputs": [
        {
          "output_type": "execute_result",
          "data": {
            "text/html": [
              "<div>\n",
              "<style scoped>\n",
              "    .dataframe tbody tr th:only-of-type {\n",
              "        vertical-align: middle;\n",
              "    }\n",
              "\n",
              "    .dataframe tbody tr th {\n",
              "        vertical-align: top;\n",
              "    }\n",
              "\n",
              "    .dataframe thead th {\n",
              "        text-align: right;\n",
              "    }\n",
              "</style>\n",
              "<table border=\"1\" class=\"dataframe\">\n",
              "  <thead>\n",
              "    <tr style=\"text-align: right;\">\n",
              "      <th></th>\n",
              "      <th>posting_id</th>\n",
              "      <th>matches</th>\n",
              "    </tr>\n",
              "  </thead>\n",
              "  <tbody>\n",
              "    <tr>\n",
              "      <th>0</th>\n",
              "      <td>train_129225211</td>\n",
              "      <td>train_129225211 train_2278313361</td>\n",
              "    </tr>\n",
              "    <tr>\n",
              "      <th>1</th>\n",
              "      <td>train_3386243561</td>\n",
              "      <td>train_3386243561 train_3423213080</td>\n",
              "    </tr>\n",
              "    <tr>\n",
              "      <th>2</th>\n",
              "      <td>train_2288590299</td>\n",
              "      <td>train_2288590299</td>\n",
              "    </tr>\n",
              "    <tr>\n",
              "      <th>3</th>\n",
              "      <td>train_2406599165</td>\n",
              "      <td>train_1508100548 train_1744956981 train_240659...</td>\n",
              "    </tr>\n",
              "    <tr>\n",
              "      <th>4</th>\n",
              "      <td>train_3369186413</td>\n",
              "      <td>train_3369186413 train_921438619</td>\n",
              "    </tr>\n",
              "  </tbody>\n",
              "</table>\n",
              "</div>"
            ],
            "text/plain": [
              "         posting_id                                            matches\n",
              "0   train_129225211                   train_129225211 train_2278313361\n",
              "1  train_3386243561                  train_3386243561 train_3423213080\n",
              "2  train_2288590299                                   train_2288590299\n",
              "3  train_2406599165  train_1508100548 train_1744956981 train_240659...\n",
              "4  train_3369186413                   train_3369186413 train_921438619"
            ]
          },
          "metadata": {
            "tags": []
          },
          "execution_count": 53
        }
      ]
    },
    {
      "cell_type": "code",
      "metadata": {
        "id": "O2g0dAxStoh6"
      },
      "source": [],
      "execution_count": null,
      "outputs": []
    },
    {
      "cell_type": "code",
      "metadata": {
        "id": "TywG43evtokC"
      },
      "source": [],
      "execution_count": null,
      "outputs": []
    }
  ]
}